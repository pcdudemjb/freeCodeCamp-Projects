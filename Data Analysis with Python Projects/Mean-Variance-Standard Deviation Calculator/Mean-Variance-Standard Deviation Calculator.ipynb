{
 "cells": [
  {
   "cell_type": "code",
   "execution_count": 1,
   "id": "f8033bf5",
   "metadata": {},
   "outputs": [
    {
     "data": {
      "text/plain": [
       "{'mean': [[8.333333333333334, 11.0, 13.666666666666666],\n",
       "  [3.0, 10.333333333333334, 19.666666666666668],\n",
       "  11.0],\n",
       " 'variance': [[43.55555555555555, 42.666666666666664, 54.22222222222223],\n",
       "  [2.6666666666666665, 6.222222222222221, 6.222222222222222],\n",
       "  51.55555555555556],\n",
       " 'standard deviation': [[6.599663291074443,\n",
       "   6.531972647421808,\n",
       "   7.363574011458175],\n",
       "  [1.632993161855452, 2.494438257849294, 2.494438257849294],\n",
       "  7.180219742846005],\n",
       " 'max': [[17, 19, 23], [5, 13, 23], 23],\n",
       " 'min': [[1, 3, 5], [1, 7, 17], 1],\n",
       " 'sum': [[25, 33, 41], [9, 31, 59], 99]}"
      ]
     },
     "execution_count": 1,
     "metadata": {},
     "output_type": "execute_result"
    }
   ],
   "source": [
    "# Import packages\n",
    "import numpy as np\n",
    "\n",
    "# Create function\n",
    "def calculate(numbers):\n",
    "    if len(numbers) != 9:\n",
    "        raise ValueError(\"List must contain nine numbers.\")\n",
    "    \n",
    "    # Convert the list to a 3x3 NumPy array\n",
    "    matrix = np.array(numbers).reshape(3, 3)\n",
    "    \n",
    "    # Designate output of the function\n",
    "    result = {\n",
    "        'mean': [list(matrix.mean(axis=0)), list(matrix.mean(axis=1)), matrix.mean()],\n",
    "        'variance': [list(matrix.var(axis=0)), list(matrix.var(axis=1)), matrix.var()],\n",
    "        'standard deviation': [list(matrix.std(axis=0)), list(matrix.std(axis=1)), matrix.std()],\n",
    "        'max': [list(matrix.max(axis=0)), list(matrix.max(axis=1)), matrix.max()],\n",
    "        'min': [list(matrix.min(axis=0)), list(matrix.min(axis=1)), matrix.min()],\n",
    "        'sum': [list(matrix.sum(axis=0)), list(matrix.sum(axis=1)), matrix.sum()]\n",
    "    }\n",
    "    \n",
    "    # Utilization\n",
    "    return result\n",
    "\n",
    "# Example 1\n",
    "result = calculate([1,3,5,7,11,13,17,19,23])\n",
    "result"
   ]
  },
  {
   "cell_type": "code",
   "execution_count": 2,
   "id": "a50f6d7d",
   "metadata": {},
   "outputs": [
    {
     "data": {
      "text/plain": [
       "{'mean': [[3.0, 4.0, 5.0], [1.0, 4.0, 7.0], 4.0],\n",
       " 'variance': [[6.0, 6.0, 6.0],\n",
       "  [0.6666666666666666, 0.6666666666666666, 0.6666666666666666],\n",
       "  6.666666666666667],\n",
       " 'standard deviation': [[2.449489742783178,\n",
       "   2.449489742783178,\n",
       "   2.449489742783178],\n",
       "  [0.816496580927726, 0.816496580927726, 0.816496580927726],\n",
       "  2.581988897471611],\n",
       " 'max': [[6, 7, 8], [2, 5, 8], 8],\n",
       " 'min': [[0, 1, 2], [0, 3, 6], 0],\n",
       " 'sum': [[9, 12, 15], [3, 12, 21], 36]}"
      ]
     },
     "execution_count": 2,
     "metadata": {},
     "output_type": "execute_result"
    }
   ],
   "source": [
    "# Example 2\n",
    "result = calculate([0,1,2,3,4,5,6,7,8])\n",
    "result"
   ]
  }
 ],
 "metadata": {
  "kernelspec": {
   "display_name": "Python 3 (ipykernel)",
   "language": "python",
   "name": "python3"
  },
  "language_info": {
   "codemirror_mode": {
    "name": "ipython",
    "version": 3
   },
   "file_extension": ".py",
   "mimetype": "text/x-python",
   "name": "python",
   "nbconvert_exporter": "python",
   "pygments_lexer": "ipython3",
   "version": "3.10.9"
  }
 },
 "nbformat": 4,
 "nbformat_minor": 5
}
