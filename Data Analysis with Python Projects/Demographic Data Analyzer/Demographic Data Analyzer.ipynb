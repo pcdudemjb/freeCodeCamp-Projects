{
 "cells": [
  {
   "cell_type": "markdown",
   "id": "ba69c66c",
   "metadata": {},
   "source": [
    "# Demographic Data Analyzer"
   ]
  },
  {
   "cell_type": "code",
   "execution_count": 1,
   "id": "c293e790",
   "metadata": {},
   "outputs": [],
   "source": [
    "import pandas as pd"
   ]
  },
  {
   "cell_type": "markdown",
   "id": "2fc63a00",
   "metadata": {},
   "source": [
    "## Read data from file"
   ]
  },
  {
   "cell_type": "code",
   "execution_count": 2,
   "id": "8288d860",
   "metadata": {},
   "outputs": [
    {
     "name": "stdout",
     "output_type": "stream",
     "text": [
      "<class 'pandas.core.frame.DataFrame'>\n",
      "RangeIndex: 32561 entries, 0 to 32560\n",
      "Data columns (total 15 columns):\n",
      " #   Column          Non-Null Count  Dtype \n",
      "---  ------          --------------  ----- \n",
      " 0   age             32561 non-null  int64 \n",
      " 1   workclass       32561 non-null  object\n",
      " 2   fnlwgt          32561 non-null  int64 \n",
      " 3   education       32561 non-null  object\n",
      " 4   education-num   32561 non-null  int64 \n",
      " 5   marital-status  32561 non-null  object\n",
      " 6   occupation      32561 non-null  object\n",
      " 7   relationship    32561 non-null  object\n",
      " 8   race            32561 non-null  object\n",
      " 9   sex             32561 non-null  object\n",
      " 10  capital-gain    32561 non-null  int64 \n",
      " 11  capital-loss    32561 non-null  int64 \n",
      " 12  hours-per-week  32561 non-null  int64 \n",
      " 13  native-country  32561 non-null  object\n",
      " 14  salary          32561 non-null  object\n",
      "dtypes: int64(6), object(9)\n",
      "memory usage: 3.7+ MB\n"
     ]
    }
   ],
   "source": [
    "df = pd.read_csv('adult.data.csv')\n",
    "df.info()"
   ]
  },
  {
   "cell_type": "markdown",
   "id": "ad2b9dc7",
   "metadata": {},
   "source": [
    "## How many of each race are represented in this dataset? This should be a Pandas series with race names as the index labels."
   ]
  },
  {
   "cell_type": "code",
   "execution_count": 3,
   "id": "89fcc5e3",
   "metadata": {
    "scrolled": true
   },
   "outputs": [
    {
     "name": "stdout",
     "output_type": "stream",
     "text": [
      "RACE COUNTS White                 27816\n",
      "Black                  3124\n",
      "Asian-Pac-Islander     1039\n",
      "Amer-Indian-Eskimo      311\n",
      "Other                   271\n",
      "Name: race, dtype: int64\n"
     ]
    }
   ],
   "source": [
    "race_count = df['race'].value_counts()\n",
    "print('RACE COUNTS', race_count)"
   ]
  },
  {
   "cell_type": "markdown",
   "id": "d0b85ec5",
   "metadata": {},
   "source": [
    "## What is the average age of men?"
   ]
  },
  {
   "cell_type": "code",
   "execution_count": 4,
   "id": "06634290",
   "metadata": {
    "scrolled": true
   },
   "outputs": [
    {
     "name": "stdout",
     "output_type": "stream",
     "text": [
      "Male      21790\n",
      "Female    10771\n",
      "Name: sex, dtype: int64\n"
     ]
    }
   ],
   "source": [
    "sex = df['sex'].value_counts()\n",
    "print(sex)"
   ]
  },
  {
   "cell_type": "code",
   "execution_count": 5,
   "id": "ef9086df",
   "metadata": {},
   "outputs": [],
   "source": [
    "men = df.loc[df['sex'] == 'Male', 'age']\n",
    "average_age_men = round(df.loc[df['sex'] == 'Male', 'age'].mean(), 1)"
   ]
  },
  {
   "cell_type": "code",
   "execution_count": 6,
   "id": "4162dd3f",
   "metadata": {},
   "outputs": [
    {
     "name": "stdout",
     "output_type": "stream",
     "text": [
      "AVG AGE OF MEN 39.4\n"
     ]
    }
   ],
   "source": [
    "print('AVG AGE OF MEN', average_age_men)"
   ]
  },
  {
   "cell_type": "markdown",
   "id": "7a86d45d",
   "metadata": {},
   "source": [
    "## What is the percentage of people who have a Bachelor's degree?"
   ]
  },
  {
   "cell_type": "code",
   "execution_count": 7,
   "id": "c2bd2592",
   "metadata": {},
   "outputs": [
    {
     "name": "stdout",
     "output_type": "stream",
     "text": [
      "% OF PEOPLE WHO HAVE BACHELORS 16.4\n"
     ]
    }
   ],
   "source": [
    "total_bachelors = (df['education'] == 'Bachelors').sum()\n",
    "percentage_bachelors = round(total_bachelors * 100 / len(df), 1)\n",
    "print('% OF PEOPLE WHO HAVE BACHELORS', percentage_bachelors)"
   ]
  },
  {
   "cell_type": "markdown",
   "id": "36f64b44",
   "metadata": {},
   "source": [
    "## What percentage of people with advanced education (`Bachelors`, `Masters`, or `Doctorate`) make more than 50K?\n",
    "## What percentage of people without advanced education make more than 50K?"
   ]
  },
  {
   "cell_type": "code",
   "execution_count": 8,
   "id": "0b7f2ab5",
   "metadata": {},
   "outputs": [],
   "source": [
    "bachelor = df['education'] == 'Bachelors'\n",
    "master = df['education'] == 'Masters'\n",
    "doctor = df['education'] == 'Doctorate'"
   ]
  },
  {
   "cell_type": "code",
   "execution_count": 9,
   "id": "a033f0bc",
   "metadata": {},
   "outputs": [
    {
     "name": "stdout",
     "output_type": "stream",
     "text": [
      "HIGHER EDUCATION GROUP 7491\n"
     ]
    }
   ],
   "source": [
    "higher_education_group = bachelor | master | doctor\n",
    "print('HIGHER EDUCATION GROUP', higher_education_group.sum())"
   ]
  },
  {
   "cell_type": "code",
   "execution_count": 10,
   "id": "e5f08cf2",
   "metadata": {},
   "outputs": [
    {
     "name": "stdout",
     "output_type": "stream",
     "text": [
      "LOWER EDUCATION GROUP 25070\n"
     ]
    }
   ],
   "source": [
    "lower_education_group = ((df['education'] != 'Bachelors') & (df['education'] != 'Masters') & (df['education'] != 'Doctorate')).sum()\n",
    "print('LOWER EDUCATION GROUP', lower_education_group)"
   ]
  },
  {
   "cell_type": "code",
   "execution_count": 11,
   "id": "ff1e5681",
   "metadata": {},
   "outputs": [
    {
     "name": "stdout",
     "output_type": "stream",
     "text": [
      "3486\n"
     ]
    }
   ],
   "source": [
    "hi_ed_rich = df.loc[higher_education_group & (df['salary'] == '>50K')].value_counts().sum()\n",
    "print(hi_ed_rich)"
   ]
  },
  {
   "cell_type": "code",
   "execution_count": 12,
   "id": "9470f5b5",
   "metadata": {},
   "outputs": [
    {
     "name": "stdout",
     "output_type": "stream",
     "text": [
      "7491\n"
     ]
    }
   ],
   "source": [
    "hi_ed_total = higher_education_group.sum()\n",
    "print(hi_ed_total)"
   ]
  },
  {
   "cell_type": "code",
   "execution_count": 13,
   "id": "d1514569",
   "metadata": {},
   "outputs": [
    {
     "name": "stdout",
     "output_type": "stream",
     "text": [
      "HIGHER EDUCATION MAKING > $50K: 46.5 %\n"
     ]
    }
   ],
   "source": [
    "higher_education = round(hi_ed_rich * 100 / hi_ed_total, 1)\n",
    "print('HIGHER EDUCATION MAKING > $50K:', higher_education,'%')"
   ]
  },
  {
   "cell_type": "code",
   "execution_count": 14,
   "id": "f9a6124c",
   "metadata": {},
   "outputs": [
    {
     "name": "stdout",
     "output_type": "stream",
     "text": [
      "4355\n"
     ]
    }
   ],
   "source": [
    "lo_ed_rich = df.loc[~higher_education_group & (df['salary'] == '>50K')].value_counts().sum()\n",
    "print(lo_ed_rich)"
   ]
  },
  {
   "cell_type": "code",
   "execution_count": 15,
   "id": "e68a8720",
   "metadata": {},
   "outputs": [
    {
     "name": "stdout",
     "output_type": "stream",
     "text": [
      "25070\n"
     ]
    }
   ],
   "source": [
    "lo_ed_total = lower_education_group.sum()\n",
    "print(lo_ed_total)"
   ]
  },
  {
   "cell_type": "code",
   "execution_count": 16,
   "id": "cc712df6",
   "metadata": {},
   "outputs": [
    {
     "name": "stdout",
     "output_type": "stream",
     "text": [
      "LOWER EDUCATION MAKING > $50K: 17.4 %\n"
     ]
    }
   ],
   "source": [
    "lower_education = round(lo_ed_rich * 100 / lo_ed_total, 1)\n",
    "print('LOWER EDUCATION MAKING > $50K:', lower_education, '%')"
   ]
  },
  {
   "cell_type": "markdown",
   "id": "f219e334",
   "metadata": {},
   "source": [
    "## What is the minimum number of hours a person works per week (hours-per-week feature)?"
   ]
  },
  {
   "cell_type": "code",
   "execution_count": 17,
   "id": "64ae9cbe",
   "metadata": {},
   "outputs": [
    {
     "name": "stdout",
     "output_type": "stream",
     "text": [
      "MINIMUM HOURS WORKED 1\n"
     ]
    }
   ],
   "source": [
    "min_work_hours = df['hours-per-week'].min()\n",
    "print('MINIMUM HOURS WORKED', min_work_hours)"
   ]
  },
  {
   "cell_type": "markdown",
   "id": "91e12b87",
   "metadata": {},
   "source": [
    "## What percentage of the people who work the minimum number of hours per week have a salary of >50K?"
   ]
  },
  {
   "cell_type": "code",
   "execution_count": 18,
   "id": "5ff09970",
   "metadata": {},
   "outputs": [
    {
     "name": "stdout",
     "output_type": "stream",
     "text": [
      "# OF PEOPLE WHO WORK MINIMUM HOURS: 20\n"
     ]
    }
   ],
   "source": [
    "num_min_workers = df.loc[df['hours-per-week'] == 1].value_counts().sum()\n",
    "print('# OF PEOPLE WHO WORK MINIMUM HOURS:', num_min_workers)"
   ]
  },
  {
   "cell_type": "code",
   "execution_count": 19,
   "id": "e8d15548",
   "metadata": {
    "scrolled": true
   },
   "outputs": [
    {
     "name": "stdout",
     "output_type": "stream",
     "text": [
      "% OF PEOPLE WHO WORK THE MINIMUM NUMBER OF HOURS WHO MAKE >50K: 10.0 %\n"
     ]
    }
   ],
   "source": [
    "min_hours_rich = df.loc[(df['hours-per-week'] == 1) & (df['salary'] == '>50K')].value_counts().sum()\n",
    "rich_percentage = round(min_hours_rich * 100 / num_min_workers, 1)\n",
    "print('% OF PEOPLE WHO WORK THE MINIMUM NUMBER OF HOURS WHO MAKE >50K:', rich_percentage, '%')"
   ]
  },
  {
   "cell_type": "markdown",
   "id": "dae9bbab",
   "metadata": {},
   "source": [
    "## What country has the highest percentage of people that earn >50K?"
   ]
  },
  {
   "cell_type": "code",
   "execution_count": 20,
   "id": "d07e449d",
   "metadata": {},
   "outputs": [
    {
     "name": "stdout",
     "output_type": "stream",
     "text": [
      "HIGHEST EARNING COUNTRY Iran\n"
     ]
    }
   ],
   "source": [
    "rich_country = df.loc[(df['salary'] == '>50K'), 'native-country'].value_counts()\n",
    "country_pop = df['native-country'].value_counts()\n",
    "rich_percent_by_country = round(rich_country * 100 / country_pop, 1)\n",
    "highest_earning_country = rich_percent_by_country.idxmax()\n",
    "print('HIGHEST EARNING COUNTRY', highest_earning_country)"
   ]
  },
  {
   "cell_type": "code",
   "execution_count": 21,
   "id": "13e07f41",
   "metadata": {
    "scrolled": false
   },
   "outputs": [
    {
     "name": "stdout",
     "output_type": "stream",
     "text": [
      "HIGHEST EARNING COUNTRY'S POPULATION % THAT EARN >50K 41.9\n"
     ]
    }
   ],
   "source": [
    "iran_rich = df.loc[(df['native-country'] == 'Iran') & (df['salary'] == '>50K')].value_counts().sum()\n",
    "iran_pop = df.loc[(df['native-country'] == 'Iran')].value_counts().sum()\n",
    "highest_earning_country_percentage = round(iran_rich * 100 / iran_pop, 1)\n",
    "print(\"HIGHEST EARNING COUNTRY'S POPULATION % THAT EARN >50K\", highest_earning_country_percentage)"
   ]
  },
  {
   "cell_type": "markdown",
   "id": "dc6a50c3",
   "metadata": {},
   "source": [
    "## Identify the most popular occupation for those who earn >50K in India."
   ]
  },
  {
   "cell_type": "code",
   "execution_count": 23,
   "id": "071f74c7",
   "metadata": {},
   "outputs": [
    {
     "name": "stdout",
     "output_type": "stream",
     "text": [
      "Prof-specialty\n"
     ]
    }
   ],
   "source": [
    "top_IN_occupation = df.loc[(df['salary'] == '>50K') & (df['native-country'] == 'India'), 'occupation'].value_counts().idxmax()\n",
    "print(top_IN_occupation)"
   ]
  }
 ],
 "metadata": {
  "kernelspec": {
   "display_name": "Python 3 (ipykernel)",
   "language": "python",
   "name": "python3"
  },
  "language_info": {
   "codemirror_mode": {
    "name": "ipython",
    "version": 3
   },
   "file_extension": ".py",
   "mimetype": "text/x-python",
   "name": "python",
   "nbconvert_exporter": "python",
   "pygments_lexer": "ipython3",
   "version": "3.10.9"
  }
 },
 "nbformat": 4,
 "nbformat_minor": 5
}
