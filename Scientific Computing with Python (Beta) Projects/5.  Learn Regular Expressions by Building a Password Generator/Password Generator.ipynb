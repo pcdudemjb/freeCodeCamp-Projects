{
 "cells": [
  {
   "cell_type": "code",
   "execution_count": 1,
   "id": "00ef3f67",
   "metadata": {},
   "outputs": [
    {
     "name": "stdout",
     "output_type": "stream",
     "text": [
      "Generated password: $66/F)kttXnQdwoD\n"
     ]
    }
   ],
   "source": [
    "import re\n",
    "import secrets\n",
    "import string\n",
    "\n",
    "\n",
    "def generate_password(length=16, nums=1, special_chars=1, uppercase=1, lowercase=1):\n",
    "\n",
    "    \"\"\"\n",
    "    Generate a secure password based on specified criteria.\n",
    "\n",
    "    Args:\n",
    "        length (int): Length of the password.\n",
    "        nums (int): Minimum number of digits in the password.\n",
    "        special_chars (int): Minimum number of special characters in the password.\n",
    "        uppercase (int): Minimum number of uppercase letters in the password.\n",
    "        lowercase (int): Minimum number of lowercase letters in the password.\n",
    "\n",
    "    Returns:\n",
    "        str: The generated password.\n",
    "    \"\"\"\n",
    "    \n",
    "    # Define the possible characters for the password\n",
    "    letters = string.ascii_letters\n",
    "    digits = string.digits\n",
    "    symbols = string.punctuation\n",
    "\n",
    "    # Combine all characters\n",
    "    all_characters = letters + digits + symbols\n",
    "\n",
    "    while True:\n",
    "        password = ''\n",
    "        # Generate password\n",
    "        for _ in range(length):\n",
    "            password += secrets.choice(all_characters)\n",
    "        \n",
    "        # Define constraints for password composition using tuples\n",
    "        constraints = [\n",
    "            (nums, r'\\d'),                        # (Min number of digits to include, any digit from 0-9)\n",
    "            (special_chars, fr'[{symbols}]'),     # (Min number of special characters to include, all special characters)\n",
    "            (uppercase, r'[A-Z]'),                # (Min number of uppercase letters to include, all uppercase letters A-Z)\n",
    "            (lowercase, r'[a-z]')                 # (Min number of lowercase letters to include, all lowercase letters a-z)\n",
    "        ]\n",
    "\n",
    "        # Check constraints        \n",
    "        if all(\n",
    "            constraint <= len(re.findall(pattern, password))\n",
    "            for constraint, pattern in constraints\n",
    "        ):\n",
    "            break\n",
    "    \n",
    "    return password\n",
    "\n",
    "if __name__ == '__main__':\n",
    "    new_password = generate_password()\n",
    "    print('Generated password:', new_password)"
   ]
  },
  {
   "cell_type": "code",
   "execution_count": null,
   "id": "91e2e04d",
   "metadata": {},
   "outputs": [],
   "source": []
  }
 ],
 "metadata": {
  "kernelspec": {
   "display_name": "Python 3 (ipykernel)",
   "language": "python",
   "name": "python3"
  },
  "language_info": {
   "codemirror_mode": {
    "name": "ipython",
    "version": 3
   },
   "file_extension": ".py",
   "mimetype": "text/x-python",
   "name": "python",
   "nbconvert_exporter": "python",
   "pygments_lexer": "ipython3",
   "version": "3.10.9"
  }
 },
 "nbformat": 4,
 "nbformat_minor": 5
}
