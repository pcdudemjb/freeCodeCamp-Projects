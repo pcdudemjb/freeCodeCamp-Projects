{
 "cells": [
  {
   "cell_type": "code",
   "execution_count": 1,
   "id": "7196ed8d",
   "metadata": {},
   "outputs": [],
   "source": [
    "class Rectangle:\n",
    "    def __init__(self, width, height):\n",
    "        # Initialize the Rectangle with specified width and height\n",
    "        self.width = width\n",
    "        self.height = height\n",
    "    \n",
    "    def set_width(self, new_width):\n",
    "        # Set a new width for the Rectangle\n",
    "        self.width = new_width\n",
    "\n",
    "    def set_height(self, new_height):\n",
    "        # Set a new height for the Rectangle\n",
    "        self.height = new_height\n",
    "\n",
    "    def get_area(self):\n",
    "        # Calculate and return the area of the Rectangle\n",
    "        return self.width * self.height\n",
    "\n",
    "    def get_perimeter(self):\n",
    "        # Calculate and return the perimeter of the Rectangle  \n",
    "        return (2 * self.width + 2 * self.height)\n",
    "    \n",
    "    def get_diagonal(self):\n",
    "        # Calculate and return the diagonal of the Rectangle\n",
    "        return ((self.width ** 2 + self.height ** 2)) ** .5\n",
    "\n",
    "    def get_picture(self):\n",
    "        # Generate a string representation of the Rectangle as a picture of asterisks\n",
    "        picture = ''\n",
    "        for _ in range(self.height):\n",
    "            picture += '*' * self.width + '\\n'\n",
    "    \n",
    "        # Check if the dimensions are too big for a picture\n",
    "        if self.width > 50 or self.height > 50:\n",
    "            return 'Too big for picture.'\n",
    "        return picture\n",
    "\n",
    "    def get_amount_inside(self, shape):\n",
    "        # Calculate and return the number of times a given shape can fit inside the current Rectangle\n",
    "        if not isinstance(shape, (Rectangle, Square)):\n",
    "            raise ValueError('Argument must be a Rectangle or Square')\n",
    "\n",
    "        if shape.width > self.width or shape.height > self.height:\n",
    "            return 0\n",
    "\n",
    "        width_fit = self.width // shape.width\n",
    "        height_fit = self.height // shape.height\n",
    "\n",
    "        return width_fit * height_fit\n",
    "\n",
    "    def __str__(self):\n",
    "        # String representation of the Rectangle\n",
    "        return f'Rectangle(width={self.width}, height={self.height})'\n",
    "\n",
    "\n",
    "class Square(Rectangle):\n",
    "    def __init__(self, side_length):\n",
    "        # Initialize the Square with a side length, utilizing the Rectangle's constructor\n",
    "        super().__init__(side_length, side_length)\n",
    "\n",
    "    def set_side(self, new_side_length):\n",
    "        # Set a new side length for the Square\n",
    "        self.width = new_side_length\n",
    "        self.height = new_side_length\n",
    "\n",
    "    def set_width(self, new_width):\n",
    "        # Set a new width for the Square\n",
    "        self.set_side(new_width)\n",
    "\n",
    "    def set_height(self, new_height):\n",
    "        # Set a new height for the Square\n",
    "        self.set_side(new_height)\n",
    "    \n",
    "    def __str__(self):\n",
    "        # String representation of the Square\n",
    "        return f'Square(side={self.width})'"
   ]
  },
  {
   "cell_type": "code",
   "execution_count": 4,
   "id": "2854c693",
   "metadata": {},
   "outputs": [
    {
     "name": "stdout",
     "output_type": "stream",
     "text": [
      "50\n",
      "26\n",
      "Rectangle(width=10, height=3)\n",
      "**********\n",
      "**********\n",
      "**********\n",
      "\n",
      "81\n",
      "5.656854249492381\n",
      "Square(side=4)\n",
      "****\n",
      "****\n",
      "****\n",
      "****\n",
      "\n",
      "8\n"
     ]
    }
   ],
   "source": [
    "# Example usage of the classes\n",
    "rect = Rectangle(10, 5)\n",
    "print(rect.get_area())\n",
    "rect.set_height(3)\n",
    "print(rect.get_perimeter())\n",
    "print(rect)\n",
    "print(rect.get_picture())\n",
    "\n",
    "sq = Square(9)\n",
    "print(sq.get_area())\n",
    "sq.set_side(4)\n",
    "print(sq.get_diagonal())\n",
    "print(sq)\n",
    "print(sq.get_picture())\n",
    "\n",
    "rect.set_height(8)\n",
    "rect.set_width(16)\n",
    "print(rect.get_amount_inside(sq))"
   ]
  },
  {
   "cell_type": "code",
   "execution_count": 9,
   "id": "80d80e44",
   "metadata": {},
   "outputs": [
    {
     "name": "stdout",
     "output_type": "stream",
     "text": [
      "A Square with a side length of 4 would fit into a Rectangle with a width of 16 and a height of 8 approximately 8 times.\n"
     ]
    }
   ],
   "source": [
    "print(f'A Square with a side length of {sq.width} would fit into a Rectangle with a width of {rect.width} and a height of {rect.height} '\n",
    "      f'approximately {rect.get_amount_inside(sq)} times.')"
   ]
  }
 ],
 "metadata": {
  "kernelspec": {
   "display_name": "Python 3 (ipykernel)",
   "language": "python",
   "name": "python3"
  },
  "language_info": {
   "codemirror_mode": {
    "name": "ipython",
    "version": 3
   },
   "file_extension": ".py",
   "mimetype": "text/x-python",
   "name": "python",
   "nbconvert_exporter": "python",
   "pygments_lexer": "ipython3",
   "version": "3.10.9"
  }
 },
 "nbformat": 4,
 "nbformat_minor": 5
}
