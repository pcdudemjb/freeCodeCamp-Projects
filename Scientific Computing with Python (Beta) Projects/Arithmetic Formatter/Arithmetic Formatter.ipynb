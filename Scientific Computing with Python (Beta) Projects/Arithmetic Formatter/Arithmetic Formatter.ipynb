{
 "cells": [
  {
   "cell_type": "code",
   "execution_count": 6,
   "id": "a0fab5d0",
   "metadata": {},
   "outputs": [
    {
     "name": "stdout",
     "output_type": "stream",
     "text": [
      "  32         1      9999      523\n",
      "+  8    - 3801    + 9999    -  49\n",
      "----    ------    ------    -----\n",
      "  40     -3800     19998      474\n"
     ]
    }
   ],
   "source": [
    "def arithmetic_arranger(problems, show_result=False):\n",
    "    # Check if there are too many problems\n",
    "    if len(problems) > 5:\n",
    "        return \"Error: Too many problems.\"\n",
    "\n",
    "    # Initialize an empty list to store the arranged problems\n",
    "    arranged_problems = []\n",
    "    \n",
    "    # Iterate through each problem in the list\n",
    "    for problem in problems:\n",
    "        # Split the problem into operand1, operator, and operand2\n",
    "        operand1, operator, operand2 = problem.split()\n",
    "\n",
    "        # Check if the operator is valid\n",
    "        if operator not in ['+', '-']:\n",
    "            return \"Error: Operator must be '+' or '-'.\"\n",
    "\n",
    "        # Check if operands contain only digits\n",
    "        if not operand1.isdigit() or not operand2.isdigit():\n",
    "            return \"Error: Numbers must only contain digits.\"\n",
    "\n",
    "        # Check if operands are not more than four digits\n",
    "        if len(operand1) > 4 or len(operand2) > 4:\n",
    "            return \"Error: Numbers cannot be more than four digits.\"\n",
    "\n",
    "        # Calculate the width required for the current problem\n",
    "        width = max(len(operand1), len(operand2)) + 2\n",
    "\n",
    "        # Append the formatted operands to the arranged_problems list\n",
    "        arranged_problems.append([operand1.rjust(width), operator + operand2.rjust(width - 1)])\n",
    "\n",
    "    # Initialize variables to store each line of the arranged problems\n",
    "    top_line, bottom_line, separator_line, result_line = [\"\"] * 4\n",
    "    \n",
    "    # Iterate through each arranged problem\n",
    "    for problem in arranged_problems:\n",
    "        # Build the top line by concatenating the formatted operand1\n",
    "        top_line += problem[0] + \"    \"\n",
    "        \n",
    "        # Build the bottom line by concatenating the formatted operand2\n",
    "        bottom_line += problem[1] + \"    \"\n",
    "        \n",
    "        # Build the separator line by adding dashes based on the length of operand1\n",
    "        separator_line += \"-\" * len(problem[0]) + \"    \"\n",
    "\n",
    "        # If show_result is True, calculate and build the result line\n",
    "        if show_result:\n",
    "            result = str(eval(problem[0] + problem[1]))\n",
    "            result_line += result.rjust(len(problem[0])) + \"    \"\n",
    "\n",
    "    # Combine the lines to form the final result string\n",
    "    result_string = top_line.rstrip() + \"\\n\" + bottom_line.rstrip() + \"\\n\" + separator_line.rstrip()\n",
    "\n",
    "    # If show_result is True, add the result line to the final result string\n",
    "    if show_result:\n",
    "        result_string += \"\\n\" + result_line.rstrip()\n",
    "\n",
    "    # Return the final result string\n",
    "    return result_string\n",
    "\n",
    "# Examples\n",
    "print(arithmetic_arranger([\"32 + 8\", \"1 - 3801\", \"9999 + 9999\", \"523 - 49\"], True))"
   ]
  },
  {
   "cell_type": "code",
   "execution_count": null,
   "id": "99681593",
   "metadata": {},
   "outputs": [],
   "source": []
  }
 ],
 "metadata": {
  "kernelspec": {
   "display_name": "Python 3 (ipykernel)",
   "language": "python",
   "name": "python3"
  },
  "language_info": {
   "codemirror_mode": {
    "name": "ipython",
    "version": 3
   },
   "file_extension": ".py",
   "mimetype": "text/x-python",
   "name": "python",
   "nbconvert_exporter": "python",
   "pygments_lexer": "ipython3",
   "version": "3.10.9"
  }
 },
 "nbformat": 4,
 "nbformat_minor": 5
}
