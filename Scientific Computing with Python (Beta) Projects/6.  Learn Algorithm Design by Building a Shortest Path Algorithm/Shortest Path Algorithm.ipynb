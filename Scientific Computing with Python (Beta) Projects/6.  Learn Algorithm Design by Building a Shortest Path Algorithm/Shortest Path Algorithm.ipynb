{
 "cells": [
  {
   "cell_type": "code",
   "execution_count": 1,
   "id": "aba54a80",
   "metadata": {},
   "outputs": [
    {
     "name": "stdout",
     "output_type": "stream",
     "text": [
      "\n",
      "A-F distance: 6\n",
      "Path: A -> C -> B -> F\n"
     ]
    },
    {
     "data": {
      "text/plain": [
       "({'A': 0, 'B': 4, 'C': 3, 'D': 4, 'E': 8, 'F': 6},\n",
       " {'A': ['A'],\n",
       "  'B': ['A', 'C', 'B'],\n",
       "  'C': ['A', 'C'],\n",
       "  'D': ['A', 'C', 'D'],\n",
       "  'E': ['A', 'C', 'E'],\n",
       "  'F': ['A', 'C', 'B', 'F']})"
      ]
     },
     "execution_count": 1,
     "metadata": {},
     "output_type": "execute_result"
    }
   ],
   "source": [
    "my_graph = {\n",
    "    'A': [('B', 5), ('C', 3), ('E', 11)],\n",
    "    'B': [('A', 5), ('C', 1), ('F', 2)],\n",
    "    'C': [('A', 3), ('B', 1), ('D', 1), ('E', 5)],\n",
    "    'D': [('C',1 ), ('E', 9), ('F', 3)],\n",
    "    'E': [('A', 11), ('C', 5), ('D', 9)],\n",
    "    'F': [('B', 2), ('D', 3)]\n",
    "}\n",
    "\n",
    "def shortest_path(graph, start, target = ''):\n",
    "    \"\"\"\n",
    "    Find the shortest path in a graph. (In this case, A to F)\n",
    "\n",
    "    Args:\n",
    "        graph (dict): The graph represented as an adjacency list.\n",
    "        start (str): The starting node for the path.\n",
    "        target (str, optional): The target node for the path. If empty, print paths to all nodes.\n",
    "\n",
    "    Returns:\n",
    "        tuple: A tuple containing dictionaries of distances and paths.\n",
    "    \"\"\"\n",
    "    \n",
    "    # List of unvisited nodes\n",
    "    unvisited = list(graph)\n",
    "    \n",
    "    # Distances and paths dictionaries\n",
    "    distances = {node: 0 if node == start else float('inf') for node in graph}\n",
    "    paths = {node: [] for node in graph}\n",
    "    paths[start].append(start)\n",
    "    \n",
    "    # Dijkstra's algorithm\n",
    "    while unvisited:\n",
    "        # Choose the unvisited node with the smallest distance as the current node\n",
    "        current = min(unvisited, key=distances.get)\n",
    "        for node, distance in graph[current]:\n",
    "            # Update distance if a shorter path is found\n",
    "            if distance + distances[current] < distances[node]:\n",
    "                distances[node] = distance + distances[current]\n",
    "                # Update the path for the current node\n",
    "                if paths[node] and paths[node][-1] == node:\n",
    "                    paths[node] = paths[current][:]\n",
    "                else:\n",
    "                    paths[node].extend(paths[current])\n",
    "                paths[node].append(node)\n",
    "        # Mark the current node as visited\n",
    "        unvisited.remove(current)\n",
    "    \n",
    "    # Print shortest path\n",
    "    targets_to_print = [target] if target else graph\n",
    "    for node in targets_to_print:\n",
    "        if node == start:\n",
    "            continue\n",
    "        # Display the shortest distance and path for each target node\n",
    "        print(f'\\n{start}-{node} distance: {distances[node]}\\nPath: {\" -> \".join(paths[node])}')\n",
    "    \n",
    "    return distances, paths\n",
    "\n",
    "# Example: Find the shortest path from 'A' to 'F'\n",
    "shortest_path(my_graph, 'A', 'F')"
   ]
  }
 ],
 "metadata": {
  "kernelspec": {
   "display_name": "Python 3 (ipykernel)",
   "language": "python",
   "name": "python3"
  },
  "language_info": {
   "codemirror_mode": {
    "name": "ipython",
    "version": 3
   },
   "file_extension": ".py",
   "mimetype": "text/x-python",
   "name": "python",
   "nbconvert_exporter": "python",
   "pygments_lexer": "ipython3",
   "version": "3.10.9"
  }
 },
 "nbformat": 4,
 "nbformat_minor": 5
}
