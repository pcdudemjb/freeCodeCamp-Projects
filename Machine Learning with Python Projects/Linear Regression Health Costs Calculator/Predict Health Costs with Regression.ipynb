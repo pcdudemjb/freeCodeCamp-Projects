{
 "cells": [
  {
   "cell_type": "code",
   "execution_count": 1,
   "id": "3f2cd7f3-e72b-4f96-b0dc-3245e92e0e98",
   "metadata": {},
   "outputs": [],
   "source": [
    "# Import libraries. You may or may not use all of these.\n",
    "!pip install -q git+https://github.com/tensorflow/docs\n",
    "import matplotlib.pyplot as plt\n",
    "import numpy as np\n",
    "import pandas as pd\n",
    "\n",
    "try:\n",
    "  # %tensorflow_version only exists in Colab.\n",
    "  %tensorflow_version 2.x\n",
    "except Exception:\n",
    "  pass\n",
    "import tensorflow as tf\n",
    "\n",
    "from tensorflow import keras\n",
    "from tensorflow.keras import layers\n",
    "\n",
    "import tensorflow_docs as tfdocs\n",
    "import tensorflow_docs.plots\n",
    "import tensorflow_docs.modeling"
   ]
  },
  {
   "cell_type": "code",
   "execution_count": 2,
   "id": "d08c961d-5a99-4b3b-a1c2-bc9d325ed081",
   "metadata": {},
   "outputs": [
    {
     "data": {
      "text/html": [
       "<div>\n",
       "<style scoped>\n",
       "    .dataframe tbody tr th:only-of-type {\n",
       "        vertical-align: middle;\n",
       "    }\n",
       "\n",
       "    .dataframe tbody tr th {\n",
       "        vertical-align: top;\n",
       "    }\n",
       "\n",
       "    .dataframe thead th {\n",
       "        text-align: right;\n",
       "    }\n",
       "</style>\n",
       "<table border=\"1\" class=\"dataframe\">\n",
       "  <thead>\n",
       "    <tr style=\"text-align: right;\">\n",
       "      <th></th>\n",
       "      <th>age</th>\n",
       "      <th>sex</th>\n",
       "      <th>bmi</th>\n",
       "      <th>children</th>\n",
       "      <th>smoker</th>\n",
       "      <th>region</th>\n",
       "      <th>expenses</th>\n",
       "    </tr>\n",
       "  </thead>\n",
       "  <tbody>\n",
       "    <tr>\n",
       "      <th>0</th>\n",
       "      <td>19</td>\n",
       "      <td>female</td>\n",
       "      <td>27.9</td>\n",
       "      <td>0</td>\n",
       "      <td>yes</td>\n",
       "      <td>southwest</td>\n",
       "      <td>16884.92</td>\n",
       "    </tr>\n",
       "    <tr>\n",
       "      <th>1</th>\n",
       "      <td>18</td>\n",
       "      <td>male</td>\n",
       "      <td>33.8</td>\n",
       "      <td>1</td>\n",
       "      <td>no</td>\n",
       "      <td>southeast</td>\n",
       "      <td>1725.55</td>\n",
       "    </tr>\n",
       "    <tr>\n",
       "      <th>2</th>\n",
       "      <td>28</td>\n",
       "      <td>male</td>\n",
       "      <td>33.0</td>\n",
       "      <td>3</td>\n",
       "      <td>no</td>\n",
       "      <td>southeast</td>\n",
       "      <td>4449.46</td>\n",
       "    </tr>\n",
       "    <tr>\n",
       "      <th>3</th>\n",
       "      <td>33</td>\n",
       "      <td>male</td>\n",
       "      <td>22.7</td>\n",
       "      <td>0</td>\n",
       "      <td>no</td>\n",
       "      <td>northwest</td>\n",
       "      <td>21984.47</td>\n",
       "    </tr>\n",
       "    <tr>\n",
       "      <th>4</th>\n",
       "      <td>32</td>\n",
       "      <td>male</td>\n",
       "      <td>28.9</td>\n",
       "      <td>0</td>\n",
       "      <td>no</td>\n",
       "      <td>northwest</td>\n",
       "      <td>3866.86</td>\n",
       "    </tr>\n",
       "  </tbody>\n",
       "</table>\n",
       "</div>"
      ],
      "text/plain": [
       "   age     sex   bmi  children smoker     region  expenses\n",
       "0   19  female  27.9         0    yes  southwest  16884.92\n",
       "1   18    male  33.8         1     no  southeast   1725.55\n",
       "2   28    male  33.0         3     no  southeast   4449.46\n",
       "3   33    male  22.7         0     no  northwest  21984.47\n",
       "4   32    male  28.9         0     no  northwest   3866.86"
      ]
     },
     "execution_count": 2,
     "metadata": {},
     "output_type": "execute_result"
    }
   ],
   "source": [
    "# Import data\n",
    "# !wget https://cdn.freecodecamp.org/project-data/health-costs/insurance.csv\n",
    "dataset = pd.read_csv('insurance.csv')\n",
    "dataset.head()"
   ]
  },
  {
   "cell_type": "code",
   "execution_count": 3,
   "id": "5473910d-6b6a-4685-b226-cbb6959459c1",
   "metadata": {},
   "outputs": [
    {
     "name": "stdout",
     "output_type": "stream",
     "text": [
      "<class 'pandas.core.frame.DataFrame'>\n",
      "RangeIndex: 1338 entries, 0 to 1337\n",
      "Data columns (total 7 columns):\n",
      " #   Column    Non-Null Count  Dtype  \n",
      "---  ------    --------------  -----  \n",
      " 0   age       1338 non-null   int64  \n",
      " 1   sex       1338 non-null   object \n",
      " 2   bmi       1338 non-null   float64\n",
      " 3   children  1338 non-null   int64  \n",
      " 4   smoker    1338 non-null   object \n",
      " 5   region    1338 non-null   object \n",
      " 6   expenses  1338 non-null   float64\n",
      "dtypes: float64(2), int64(2), object(3)\n",
      "memory usage: 73.3+ KB\n"
     ]
    }
   ],
   "source": [
    "# EDA & Preprocessing\n",
    "dataset.info()"
   ]
  },
  {
   "cell_type": "code",
   "execution_count": 4,
   "id": "0317abae-f752-4912-b76e-1fb17f14c4a2",
   "metadata": {},
   "outputs": [
    {
     "data": {
      "text/html": [
       "<div>\n",
       "<style scoped>\n",
       "    .dataframe tbody tr th:only-of-type {\n",
       "        vertical-align: middle;\n",
       "    }\n",
       "\n",
       "    .dataframe tbody tr th {\n",
       "        vertical-align: top;\n",
       "    }\n",
       "\n",
       "    .dataframe thead th {\n",
       "        text-align: right;\n",
       "    }\n",
       "</style>\n",
       "<table border=\"1\" class=\"dataframe\">\n",
       "  <thead>\n",
       "    <tr style=\"text-align: right;\">\n",
       "      <th></th>\n",
       "      <th>age</th>\n",
       "      <th>bmi</th>\n",
       "      <th>children</th>\n",
       "      <th>expenses</th>\n",
       "    </tr>\n",
       "  </thead>\n",
       "  <tbody>\n",
       "    <tr>\n",
       "      <th>count</th>\n",
       "      <td>1338.000000</td>\n",
       "      <td>1338.000000</td>\n",
       "      <td>1338.000000</td>\n",
       "      <td>1338.000000</td>\n",
       "    </tr>\n",
       "    <tr>\n",
       "      <th>mean</th>\n",
       "      <td>39.207025</td>\n",
       "      <td>30.665471</td>\n",
       "      <td>1.094918</td>\n",
       "      <td>13270.422414</td>\n",
       "    </tr>\n",
       "    <tr>\n",
       "      <th>std</th>\n",
       "      <td>14.049960</td>\n",
       "      <td>6.098382</td>\n",
       "      <td>1.205493</td>\n",
       "      <td>12110.011240</td>\n",
       "    </tr>\n",
       "    <tr>\n",
       "      <th>min</th>\n",
       "      <td>18.000000</td>\n",
       "      <td>16.000000</td>\n",
       "      <td>0.000000</td>\n",
       "      <td>1121.870000</td>\n",
       "    </tr>\n",
       "    <tr>\n",
       "      <th>25%</th>\n",
       "      <td>27.000000</td>\n",
       "      <td>26.300000</td>\n",
       "      <td>0.000000</td>\n",
       "      <td>4740.287500</td>\n",
       "    </tr>\n",
       "    <tr>\n",
       "      <th>50%</th>\n",
       "      <td>39.000000</td>\n",
       "      <td>30.400000</td>\n",
       "      <td>1.000000</td>\n",
       "      <td>9382.030000</td>\n",
       "    </tr>\n",
       "    <tr>\n",
       "      <th>75%</th>\n",
       "      <td>51.000000</td>\n",
       "      <td>34.700000</td>\n",
       "      <td>2.000000</td>\n",
       "      <td>16639.915000</td>\n",
       "    </tr>\n",
       "    <tr>\n",
       "      <th>max</th>\n",
       "      <td>64.000000</td>\n",
       "      <td>53.100000</td>\n",
       "      <td>5.000000</td>\n",
       "      <td>63770.430000</td>\n",
       "    </tr>\n",
       "  </tbody>\n",
       "</table>\n",
       "</div>"
      ],
      "text/plain": [
       "               age          bmi     children      expenses\n",
       "count  1338.000000  1338.000000  1338.000000   1338.000000\n",
       "mean     39.207025    30.665471     1.094918  13270.422414\n",
       "std      14.049960     6.098382     1.205493  12110.011240\n",
       "min      18.000000    16.000000     0.000000   1121.870000\n",
       "25%      27.000000    26.300000     0.000000   4740.287500\n",
       "50%      39.000000    30.400000     1.000000   9382.030000\n",
       "75%      51.000000    34.700000     2.000000  16639.915000\n",
       "max      64.000000    53.100000     5.000000  63770.430000"
      ]
     },
     "execution_count": 4,
     "metadata": {},
     "output_type": "execute_result"
    }
   ],
   "source": [
    "dataset.describe()"
   ]
  },
  {
   "cell_type": "code",
   "execution_count": 5,
   "id": "8613f32d-3caf-4820-b6f7-bf17eccbbb9f",
   "metadata": {},
   "outputs": [
    {
     "data": {
      "text/plain": [
       "male      676\n",
       "female    662\n",
       "Name: sex, dtype: int64"
      ]
     },
     "execution_count": 5,
     "metadata": {},
     "output_type": "execute_result"
    }
   ],
   "source": [
    "dataset['sex'].value_counts()"
   ]
  },
  {
   "cell_type": "code",
   "execution_count": 6,
   "id": "cb6e7278-da2d-43ae-bf5f-0f847f1832cf",
   "metadata": {},
   "outputs": [
    {
     "data": {
      "text/plain": [
       "0    0\n",
       "1    1\n",
       "2    1\n",
       "3    1\n",
       "4    1\n",
       "Name: sex, dtype: int32"
      ]
     },
     "execution_count": 6,
     "metadata": {},
     "output_type": "execute_result"
    }
   ],
   "source": [
    "# Convert categorical column 'sex' to integer\n",
    "from sklearn.preprocessing import LabelEncoder\n",
    "label_encoder = LabelEncoder()\n",
    "dataset['sex'] = label_encoder.fit_transform(dataset['sex'])\n",
    "dataset['sex'].head()\n",
    "# Female = 0, Male = 1"
   ]
  },
  {
   "cell_type": "code",
   "execution_count": 7,
   "id": "fdf8ffaa-ffc7-4fa2-8ba6-a69667a8fe6e",
   "metadata": {},
   "outputs": [
    {
     "data": {
      "text/plain": [
       "no     1064\n",
       "yes     274\n",
       "Name: smoker, dtype: int64"
      ]
     },
     "execution_count": 7,
     "metadata": {},
     "output_type": "execute_result"
    }
   ],
   "source": [
    "dataset['smoker'].value_counts()"
   ]
  },
  {
   "cell_type": "code",
   "execution_count": 8,
   "id": "080af67f-fc41-4798-a2c7-f59bf93c836a",
   "metadata": {},
   "outputs": [
    {
     "data": {
      "text/plain": [
       "0    1\n",
       "1    0\n",
       "2    0\n",
       "3    0\n",
       "4    0\n",
       "Name: smoker, dtype: int32"
      ]
     },
     "execution_count": 8,
     "metadata": {},
     "output_type": "execute_result"
    }
   ],
   "source": [
    "# Convert categorical column 'smoker' to integer\n",
    "dataset['smoker'] = label_encoder.fit_transform(dataset['smoker'])\n",
    "dataset['smoker'].head()\n",
    "# No = 0, Yes = 1"
   ]
  },
  {
   "cell_type": "code",
   "execution_count": 9,
   "id": "a072ca3f-54c8-47af-bb21-1dde1a40e1c3",
   "metadata": {},
   "outputs": [
    {
     "data": {
      "text/plain": [
       "southeast    364\n",
       "southwest    325\n",
       "northwest    325\n",
       "northeast    324\n",
       "Name: region, dtype: int64"
      ]
     },
     "execution_count": 9,
     "metadata": {},
     "output_type": "execute_result"
    }
   ],
   "source": [
    "dataset['region'].value_counts()"
   ]
  },
  {
   "cell_type": "code",
   "execution_count": 10,
   "id": "4a192477-7b2d-4283-b8e8-b74a253b03ed",
   "metadata": {},
   "outputs": [
    {
     "data": {
      "text/plain": [
       "0    3\n",
       "1    2\n",
       "2    2\n",
       "3    1\n",
       "4    1\n",
       "Name: region, dtype: int32"
      ]
     },
     "execution_count": 10,
     "metadata": {},
     "output_type": "execute_result"
    }
   ],
   "source": [
    "# Convert categorical column 'region' to integer\n",
    "dataset['region'] = label_encoder.fit_transform(dataset['region'])\n",
    "dataset['region'].head()\n",
    "# Northeast = 0, Northwest = 1, Southeast = 2, Southwest = 3"
   ]
  },
  {
   "cell_type": "code",
   "execution_count": 11,
   "id": "0e54c075-7630-4ec4-af78-774922b9fbba",
   "metadata": {},
   "outputs": [
    {
     "data": {
      "text/html": [
       "<div>\n",
       "<style scoped>\n",
       "    .dataframe tbody tr th:only-of-type {\n",
       "        vertical-align: middle;\n",
       "    }\n",
       "\n",
       "    .dataframe tbody tr th {\n",
       "        vertical-align: top;\n",
       "    }\n",
       "\n",
       "    .dataframe thead th {\n",
       "        text-align: right;\n",
       "    }\n",
       "</style>\n",
       "<table border=\"1\" class=\"dataframe\">\n",
       "  <thead>\n",
       "    <tr style=\"text-align: right;\">\n",
       "      <th></th>\n",
       "      <th>age</th>\n",
       "      <th>sex</th>\n",
       "      <th>bmi</th>\n",
       "      <th>children</th>\n",
       "      <th>smoker</th>\n",
       "      <th>region</th>\n",
       "      <th>expenses</th>\n",
       "    </tr>\n",
       "  </thead>\n",
       "  <tbody>\n",
       "    <tr>\n",
       "      <th>0</th>\n",
       "      <td>19</td>\n",
       "      <td>0</td>\n",
       "      <td>27.9</td>\n",
       "      <td>0</td>\n",
       "      <td>1</td>\n",
       "      <td>3</td>\n",
       "      <td>16884.92</td>\n",
       "    </tr>\n",
       "    <tr>\n",
       "      <th>1</th>\n",
       "      <td>18</td>\n",
       "      <td>1</td>\n",
       "      <td>33.8</td>\n",
       "      <td>1</td>\n",
       "      <td>0</td>\n",
       "      <td>2</td>\n",
       "      <td>1725.55</td>\n",
       "    </tr>\n",
       "    <tr>\n",
       "      <th>2</th>\n",
       "      <td>28</td>\n",
       "      <td>1</td>\n",
       "      <td>33.0</td>\n",
       "      <td>3</td>\n",
       "      <td>0</td>\n",
       "      <td>2</td>\n",
       "      <td>4449.46</td>\n",
       "    </tr>\n",
       "    <tr>\n",
       "      <th>3</th>\n",
       "      <td>33</td>\n",
       "      <td>1</td>\n",
       "      <td>22.7</td>\n",
       "      <td>0</td>\n",
       "      <td>0</td>\n",
       "      <td>1</td>\n",
       "      <td>21984.47</td>\n",
       "    </tr>\n",
       "    <tr>\n",
       "      <th>4</th>\n",
       "      <td>32</td>\n",
       "      <td>1</td>\n",
       "      <td>28.9</td>\n",
       "      <td>0</td>\n",
       "      <td>0</td>\n",
       "      <td>1</td>\n",
       "      <td>3866.86</td>\n",
       "    </tr>\n",
       "  </tbody>\n",
       "</table>\n",
       "</div>"
      ],
      "text/plain": [
       "   age  sex   bmi  children  smoker  region  expenses\n",
       "0   19    0  27.9         0       1       3  16884.92\n",
       "1   18    1  33.8         1       0       2   1725.55\n",
       "2   28    1  33.0         3       0       2   4449.46\n",
       "3   33    1  22.7         0       0       1  21984.47\n",
       "4   32    1  28.9         0       0       1   3866.86"
      ]
     },
     "execution_count": 11,
     "metadata": {},
     "output_type": "execute_result"
    }
   ],
   "source": [
    "# Confirming completed transformations\n",
    "dataset.head()"
   ]
  },
  {
   "cell_type": "code",
   "execution_count": 12,
   "id": "20405d69-61c0-4895-9ddf-790068b4d1d6",
   "metadata": {},
   "outputs": [],
   "source": [
    "# Splitting Test and Training data\n",
    "from sklearn.model_selection import train_test_split\n",
    "train_dataset, test_dataset = train_test_split(dataset, test_size = 0.2)\n",
    "\n",
    "# Separate labels from features\n",
    "train_labels = train_dataset.pop('expenses')\n",
    "test_labels = test_dataset.pop('expenses')"
   ]
  },
  {
   "cell_type": "code",
   "execution_count": 13,
   "id": "777a35b3-9092-4d75-ae5b-d548ad44ffbe",
   "metadata": {
    "collapsed": true,
    "jupyter": {
     "outputs_hidden": true
    },
    "tags": []
   },
   "outputs": [
    {
     "name": "stdout",
     "output_type": "stream",
     "text": [
      "Epoch 1/100\n",
      "27/27 [==============================] - 1s 6ms/step - loss: 13444.1133 - mae: 13444.1133 - mse: 326484992.0000 - val_loss: 12806.7539 - val_mae: 12806.7539 - val_mse: 316687328.0000\n",
      "Epoch 2/100\n",
      "27/27 [==============================] - 0s 2ms/step - loss: 13034.6689 - mae: 13034.6689 - mse: 315066208.0000 - val_loss: 11870.6543 - val_mae: 11870.6543 - val_mse: 291397120.0000\n",
      "Epoch 3/100\n",
      "27/27 [==============================] - 0s 2ms/step - loss: 10997.9727 - mae: 10997.9727 - mse: 262272448.0000 - val_loss: 8438.6230 - val_mae: 8438.6230 - val_mse: 203495456.0000\n",
      "Epoch 4/100\n",
      "27/27 [==============================] - 0s 2ms/step - loss: 7820.5776 - mae: 7820.5776 - mse: 162863376.0000 - val_loss: 7546.0630 - val_mae: 7546.0630 - val_mse: 144441456.0000\n",
      "Epoch 5/100\n",
      "27/27 [==============================] - 0s 2ms/step - loss: 7598.5288 - mae: 7598.5288 - mse: 152065168.0000 - val_loss: 7270.7769 - val_mae: 7270.7769 - val_mse: 152283648.0000\n",
      "Epoch 6/100\n",
      "27/27 [==============================] - 0s 2ms/step - loss: 7513.6299 - mae: 7513.6299 - mse: 153187344.0000 - val_loss: 7197.6587 - val_mae: 7197.6587 - val_mse: 152937248.0000\n",
      "Epoch 7/100\n",
      "27/27 [==============================] - 0s 2ms/step - loss: 7460.0122 - mae: 7460.0122 - mse: 156579088.0000 - val_loss: 7131.2915 - val_mae: 7131.2915 - val_mse: 153070928.0000\n",
      "Epoch 8/100\n",
      "27/27 [==============================] - 0s 2ms/step - loss: 7405.0947 - mae: 7405.0947 - mse: 153828816.0000 - val_loss: 7063.5405 - val_mae: 7063.5405 - val_mse: 153335104.0000\n",
      "Epoch 9/100\n",
      "27/27 [==============================] - 0s 2ms/step - loss: 7344.7734 - mae: 7344.7734 - mse: 155043904.0000 - val_loss: 6987.1182 - val_mae: 6987.1182 - val_mse: 154989888.0000\n",
      "Epoch 10/100\n",
      "27/27 [==============================] - 0s 2ms/step - loss: 7290.8018 - mae: 7290.8018 - mse: 156370448.0000 - val_loss: 6912.2388 - val_mae: 6912.2388 - val_mse: 155369488.0000\n",
      "Epoch 11/100\n",
      "27/27 [==============================] - 0s 1ms/step - loss: 7230.2832 - mae: 7230.2832 - mse: 158097280.0000 - val_loss: 6835.9712 - val_mae: 6835.9712 - val_mse: 154253392.0000\n",
      "Epoch 12/100\n",
      "27/27 [==============================] - 0s 2ms/step - loss: 7167.5874 - mae: 7167.5874 - mse: 158480960.0000 - val_loss: 6759.0142 - val_mae: 6759.0142 - val_mse: 153754592.0000\n",
      "Epoch 13/100\n",
      "27/27 [==============================] - 0s 1ms/step - loss: 7112.4634 - mae: 7112.4634 - mse: 159058496.0000 - val_loss: 6673.4326 - val_mae: 6673.4326 - val_mse: 154035904.0000\n",
      "Epoch 14/100\n",
      "27/27 [==============================] - 0s 2ms/step - loss: 7040.1211 - mae: 7040.1211 - mse: 161620192.0000 - val_loss: 6613.0601 - val_mae: 6613.0601 - val_mse: 152509920.0000\n",
      "Epoch 15/100\n",
      "27/27 [==============================] - 0s 2ms/step - loss: 6981.0571 - mae: 6981.0571 - mse: 160985648.0000 - val_loss: 6509.3267 - val_mae: 6509.3267 - val_mse: 158774576.0000\n",
      "Epoch 16/100\n",
      "27/27 [==============================] - 0s 2ms/step - loss: 6934.0288 - mae: 6934.0288 - mse: 161785584.0000 - val_loss: 6439.2637 - val_mae: 6439.2637 - val_mse: 159122848.0000\n",
      "Epoch 17/100\n",
      "27/27 [==============================] - 0s 2ms/step - loss: 6881.0420 - mae: 6881.0420 - mse: 162722928.0000 - val_loss: 6377.1426 - val_mae: 6377.1426 - val_mse: 158108736.0000\n",
      "Epoch 18/100\n",
      "27/27 [==============================] - 0s 2ms/step - loss: 6845.7646 - mae: 6845.7646 - mse: 163115680.0000 - val_loss: 6413.9473 - val_mae: 6413.9473 - val_mse: 163709104.0000\n",
      "Epoch 19/100\n",
      "27/27 [==============================] - 0s 2ms/step - loss: 6842.4468 - mae: 6842.4468 - mse: 163387040.0000 - val_loss: 6342.9917 - val_mae: 6342.9917 - val_mse: 161664016.0000\n",
      "Epoch 20/100\n",
      "27/27 [==============================] - 0s 2ms/step - loss: 6809.9395 - mae: 6809.9395 - mse: 164601536.0000 - val_loss: 6295.6094 - val_mae: 6295.6094 - val_mse: 159558832.0000\n",
      "Epoch 21/100\n",
      "27/27 [==============================] - 0s 2ms/step - loss: 6782.7422 - mae: 6782.7422 - mse: 164059296.0000 - val_loss: 6278.8701 - val_mae: 6278.8701 - val_mse: 154927024.0000\n",
      "Epoch 22/100\n",
      "27/27 [==============================] - 0s 2ms/step - loss: 6758.1646 - mae: 6758.1646 - mse: 163183312.0000 - val_loss: 6254.9727 - val_mae: 6254.9727 - val_mse: 155006896.0000\n",
      "Epoch 23/100\n",
      "27/27 [==============================] - 0s 1ms/step - loss: 6739.0093 - mae: 6739.0093 - mse: 162235920.0000 - val_loss: 6232.5962 - val_mae: 6232.5962 - val_mse: 155448816.0000\n",
      "Epoch 24/100\n",
      "27/27 [==============================] - 0s 2ms/step - loss: 6721.7529 - mae: 6721.7529 - mse: 162323088.0000 - val_loss: 6215.5703 - val_mae: 6215.5703 - val_mse: 154587904.0000\n",
      "Epoch 25/100\n",
      "27/27 [==============================] - 0s 2ms/step - loss: 6707.0776 - mae: 6707.0776 - mse: 161947584.0000 - val_loss: 6197.1450 - val_mae: 6197.1450 - val_mse: 154355888.0000\n",
      "Epoch 26/100\n",
      "27/27 [==============================] - 0s 2ms/step - loss: 6693.8867 - mae: 6693.8867 - mse: 161726400.0000 - val_loss: 6177.4468 - val_mae: 6177.4468 - val_mse: 154810000.0000\n",
      "Epoch 27/100\n",
      "27/27 [==============================] - 0s 2ms/step - loss: 6677.0957 - mae: 6677.0957 - mse: 161269648.0000 - val_loss: 6162.6216 - val_mae: 6162.6216 - val_mse: 154927504.0000\n",
      "Epoch 28/100\n",
      "27/27 [==============================] - 0s 2ms/step - loss: 6685.8164 - mae: 6685.8164 - mse: 160720496.0000 - val_loss: 6183.4463 - val_mae: 6183.4463 - val_mse: 157527344.0000\n",
      "Epoch 29/100\n",
      "27/27 [==============================] - 0s 2ms/step - loss: 6641.0352 - mae: 6641.0352 - mse: 159726448.0000 - val_loss: 6132.9790 - val_mae: 6132.9790 - val_mse: 154663712.0000\n",
      "Epoch 30/100\n",
      "27/27 [==============================] - 0s 2ms/step - loss: 6620.5693 - mae: 6620.5693 - mse: 159966976.0000 - val_loss: 6111.7080 - val_mae: 6111.7080 - val_mse: 151505200.0000\n",
      "Epoch 31/100\n",
      "27/27 [==============================] - 0s 2ms/step - loss: 6606.7739 - mae: 6606.7739 - mse: 158607552.0000 - val_loss: 6098.5566 - val_mae: 6098.5566 - val_mse: 149890176.0000\n",
      "Epoch 32/100\n",
      "27/27 [==============================] - 0s 2ms/step - loss: 6587.5674 - mae: 6587.5674 - mse: 158229344.0000 - val_loss: 6076.2466 - val_mae: 6076.2466 - val_mse: 149533536.0000\n",
      "Epoch 33/100\n",
      "27/27 [==============================] - 0s 2ms/step - loss: 6572.8701 - mae: 6572.8701 - mse: 157773664.0000 - val_loss: 6049.7231 - val_mae: 6049.7231 - val_mse: 150844528.0000\n",
      "Epoch 34/100\n",
      "27/27 [==============================] - 0s 2ms/step - loss: 6553.5347 - mae: 6553.5347 - mse: 156600032.0000 - val_loss: 6032.9839 - val_mae: 6032.9839 - val_mse: 151027536.0000\n",
      "Epoch 35/100\n",
      "27/27 [==============================] - 0s 2ms/step - loss: 6536.3223 - mae: 6536.3223 - mse: 156704416.0000 - val_loss: 6005.8643 - val_mae: 6005.8643 - val_mse: 149286000.0000\n",
      "Epoch 36/100\n",
      "27/27 [==============================] - 0s 2ms/step - loss: 6503.6782 - mae: 6503.6782 - mse: 155626576.0000 - val_loss: 6011.0474 - val_mae: 6011.0474 - val_mse: 144503888.0000\n",
      "Epoch 37/100\n",
      "27/27 [==============================] - 0s 2ms/step - loss: 6477.5063 - mae: 6477.5063 - mse: 153850736.0000 - val_loss: 5965.5269 - val_mae: 5965.5269 - val_mse: 148505952.0000\n",
      "Epoch 38/100\n",
      "27/27 [==============================] - 0s 1ms/step - loss: 6455.1597 - mae: 6455.1597 - mse: 154134272.0000 - val_loss: 5936.6089 - val_mae: 5936.6089 - val_mse: 145073232.0000\n",
      "Epoch 39/100\n",
      "27/27 [==============================] - 0s 2ms/step - loss: 6421.7559 - mae: 6421.7559 - mse: 152802176.0000 - val_loss: 5902.5854 - val_mae: 5902.5854 - val_mse: 144600656.0000\n",
      "Epoch 40/100\n",
      "27/27 [==============================] - 0s 1ms/step - loss: 6397.1343 - mae: 6397.1343 - mse: 151062512.0000 - val_loss: 5871.9932 - val_mae: 5871.9932 - val_mse: 143456816.0000\n",
      "Epoch 41/100\n",
      "27/27 [==============================] - 0s 2ms/step - loss: 6358.0918 - mae: 6358.0918 - mse: 150145968.0000 - val_loss: 5856.4575 - val_mae: 5856.4575 - val_mse: 144393888.0000\n",
      "Epoch 42/100\n",
      "27/27 [==============================] - 0s 2ms/step - loss: 6324.8833 - mae: 6324.8833 - mse: 148519232.0000 - val_loss: 5803.2905 - val_mae: 5803.2905 - val_mse: 139463136.0000\n",
      "Epoch 43/100\n",
      "27/27 [==============================] - 0s 2ms/step - loss: 6289.4883 - mae: 6289.4883 - mse: 146649872.0000 - val_loss: 5767.2520 - val_mae: 5767.2520 - val_mse: 138295504.0000\n",
      "Epoch 44/100\n",
      "27/27 [==============================] - 0s 2ms/step - loss: 6250.7012 - mae: 6250.7012 - mse: 146150656.0000 - val_loss: 5721.1626 - val_mae: 5721.1626 - val_mse: 137312624.0000\n",
      "Epoch 45/100\n",
      "27/27 [==============================] - 0s 1ms/step - loss: 6206.9741 - mae: 6206.9741 - mse: 143447504.0000 - val_loss: 5678.6167 - val_mae: 5678.6167 - val_mse: 133728712.0000\n",
      "Epoch 46/100\n",
      "27/27 [==============================] - 0s 2ms/step - loss: 6170.7764 - mae: 6170.7764 - mse: 141351456.0000 - val_loss: 5653.5986 - val_mae: 5653.5986 - val_mse: 135566416.0000\n",
      "Epoch 47/100\n",
      "27/27 [==============================] - 0s 2ms/step - loss: 6128.0615 - mae: 6128.0615 - mse: 138588112.0000 - val_loss: 5569.5029 - val_mae: 5569.5029 - val_mse: 130051176.0000\n",
      "Epoch 48/100\n",
      "27/27 [==============================] - 0s 2ms/step - loss: 6031.3511 - mae: 6031.3511 - mse: 137548816.0000 - val_loss: 5502.6357 - val_mae: 5502.6357 - val_mse: 128028960.0000\n",
      "Epoch 49/100\n",
      "27/27 [==============================] - 0s 2ms/step - loss: 5956.4951 - mae: 5956.4951 - mse: 134457008.0000 - val_loss: 5429.1694 - val_mae: 5429.1694 - val_mse: 124526056.0000\n",
      "Epoch 50/100\n",
      "27/27 [==============================] - 0s 2ms/step - loss: 5876.0947 - mae: 5876.0947 - mse: 130747720.0000 - val_loss: 5358.7671 - val_mae: 5358.7671 - val_mse: 123213616.0000\n",
      "Epoch 51/100\n",
      "27/27 [==============================] - 0s 2ms/step - loss: 5805.1421 - mae: 5805.1421 - mse: 126583728.0000 - val_loss: 5258.7495 - val_mae: 5258.7495 - val_mse: 115678664.0000\n",
      "Epoch 52/100\n",
      "27/27 [==============================] - 0s 2ms/step - loss: 5691.7324 - mae: 5691.7324 - mse: 122496264.0000 - val_loss: 5284.2778 - val_mae: 5284.2778 - val_mse: 106805216.0000\n",
      "Epoch 53/100\n",
      "27/27 [==============================] - 0s 2ms/step - loss: 5584.5732 - mae: 5584.5732 - mse: 117538376.0000 - val_loss: 5001.2578 - val_mae: 5001.2578 - val_mse: 108730424.0000\n",
      "Epoch 54/100\n",
      "27/27 [==============================] - 0s 2ms/step - loss: 5417.0962 - mae: 5417.0962 - mse: 112645448.0000 - val_loss: 4860.8018 - val_mae: 4860.8018 - val_mse: 101288760.0000\n",
      "Epoch 55/100\n",
      "27/27 [==============================] - 0s 2ms/step - loss: 5209.6362 - mae: 5209.6362 - mse: 106919040.0000 - val_loss: 4791.7725 - val_mae: 4791.7725 - val_mse: 99657952.0000\n",
      "Epoch 56/100\n",
      "27/27 [==============================] - 0s 2ms/step - loss: 5056.0078 - mae: 5056.0078 - mse: 99111072.0000 - val_loss: 4553.5977 - val_mae: 4553.5977 - val_mse: 91982496.0000\n",
      "Epoch 57/100\n",
      "27/27 [==============================] - 0s 2ms/step - loss: 4745.5483 - mae: 4745.5483 - mse: 91398648.0000 - val_loss: 4177.7700 - val_mae: 4177.7700 - val_mse: 80618736.0000\n",
      "Epoch 58/100\n",
      "27/27 [==============================] - 0s 2ms/step - loss: 4467.9082 - mae: 4467.9082 - mse: 83524120.0000 - val_loss: 3940.3767 - val_mae: 3940.3767 - val_mse: 73312424.0000\n",
      "Epoch 59/100\n",
      "27/27 [==============================] - 0s 2ms/step - loss: 4178.6978 - mae: 4178.6978 - mse: 75221120.0000 - val_loss: 3732.2368 - val_mae: 3732.2368 - val_mse: 62160144.0000\n",
      "Epoch 60/100\n",
      "27/27 [==============================] - 0s 2ms/step - loss: 4010.2231 - mae: 4010.2231 - mse: 68454760.0000 - val_loss: 3535.2712 - val_mae: 3535.2712 - val_mse: 59149060.0000\n",
      "Epoch 61/100\n",
      "27/27 [==============================] - 0s 2ms/step - loss: 3889.9299 - mae: 3889.9299 - mse: 64461132.0000 - val_loss: 3479.1985 - val_mae: 3479.1985 - val_mse: 54625044.0000\n",
      "Epoch 62/100\n",
      "27/27 [==============================] - 0s 2ms/step - loss: 3899.1875 - mae: 3899.1875 - mse: 61118924.0000 - val_loss: 3407.4570 - val_mae: 3407.4570 - val_mse: 52352488.0000\n",
      "Epoch 63/100\n",
      "27/27 [==============================] - 0s 2ms/step - loss: 3855.3958 - mae: 3855.3958 - mse: 59776748.0000 - val_loss: 3423.7578 - val_mae: 3423.7578 - val_mse: 53749704.0000\n",
      "Epoch 64/100\n",
      "27/27 [==============================] - 0s 2ms/step - loss: 3816.8643 - mae: 3816.8643 - mse: 59433624.0000 - val_loss: 3445.6953 - val_mae: 3445.6953 - val_mse: 53402096.0000\n",
      "Epoch 65/100\n",
      "27/27 [==============================] - 0s 2ms/step - loss: 3797.6367 - mae: 3797.6367 - mse: 57952748.0000 - val_loss: 3348.2593 - val_mae: 3348.2593 - val_mse: 50755144.0000\n",
      "Epoch 66/100\n",
      "27/27 [==============================] - 0s 2ms/step - loss: 3794.6843 - mae: 3794.6843 - mse: 58057932.0000 - val_loss: 3381.1565 - val_mae: 3381.1565 - val_mse: 48341348.0000\n",
      "Epoch 67/100\n",
      "27/27 [==============================] - 0s 2ms/step - loss: 3803.4028 - mae: 3803.4028 - mse: 56970988.0000 - val_loss: 3331.0581 - val_mae: 3331.0581 - val_mse: 48657800.0000\n",
      "Epoch 68/100\n",
      "27/27 [==============================] - 0s 2ms/step - loss: 3791.0952 - mae: 3791.0952 - mse: 56317724.0000 - val_loss: 3337.5640 - val_mae: 3337.5640 - val_mse: 47178924.0000\n",
      "Epoch 69/100\n",
      "27/27 [==============================] - 0s 2ms/step - loss: 3870.2576 - mae: 3870.2576 - mse: 55080524.0000 - val_loss: 3316.3733 - val_mae: 3316.3733 - val_mse: 49077620.0000\n",
      "Epoch 70/100\n",
      "27/27 [==============================] - 0s 2ms/step - loss: 3780.2007 - mae: 3780.2007 - mse: 56366736.0000 - val_loss: 3304.4585 - val_mae: 3304.4585 - val_mse: 46674124.0000\n",
      "Epoch 71/100\n",
      "27/27 [==============================] - 0s 2ms/step - loss: 3768.2139 - mae: 3768.2139 - mse: 55238052.0000 - val_loss: 3306.0842 - val_mae: 3306.0842 - val_mse: 46020964.0000\n",
      "Epoch 72/100\n",
      "27/27 [==============================] - 0s 2ms/step - loss: 3754.9072 - mae: 3754.9072 - mse: 54632064.0000 - val_loss: 3276.2249 - val_mae: 3276.2249 - val_mse: 46785584.0000\n",
      "Epoch 73/100\n",
      "27/27 [==============================] - 0s 2ms/step - loss: 3796.1785 - mae: 3796.1785 - mse: 54186000.0000 - val_loss: 3364.8987 - val_mae: 3364.8987 - val_mse: 43521056.0000\n",
      "Epoch 74/100\n",
      "27/27 [==============================] - 0s 2ms/step - loss: 3792.3242 - mae: 3792.3242 - mse: 54003024.0000 - val_loss: 3307.1448 - val_mae: 3307.1448 - val_mse: 44051964.0000\n",
      "Epoch 75/100\n",
      "27/27 [==============================] - 0s 2ms/step - loss: 3745.4336 - mae: 3745.4336 - mse: 52944984.0000 - val_loss: 3266.7678 - val_mae: 3266.7678 - val_mse: 45595748.0000\n",
      "Epoch 76/100\n",
      "27/27 [==============================] - 0s 2ms/step - loss: 3726.9827 - mae: 3726.9827 - mse: 53167272.0000 - val_loss: 3235.4568 - val_mae: 3235.4568 - val_mse: 44742236.0000\n",
      "Epoch 77/100\n",
      "27/27 [==============================] - 0s 2ms/step - loss: 3761.2412 - mae: 3761.2412 - mse: 51971104.0000 - val_loss: 3223.2815 - val_mae: 3223.2815 - val_mse: 43400800.0000\n",
      "Epoch 78/100\n",
      "27/27 [==============================] - 0s 2ms/step - loss: 3749.9216 - mae: 3749.9216 - mse: 51582876.0000 - val_loss: 3218.0413 - val_mae: 3218.0413 - val_mse: 43223080.0000\n",
      "Epoch 79/100\n",
      "27/27 [==============================] - 0s 2ms/step - loss: 3730.0505 - mae: 3730.0505 - mse: 51076592.0000 - val_loss: 3211.4419 - val_mae: 3211.4419 - val_mse: 41801584.0000\n",
      "Epoch 80/100\n",
      "27/27 [==============================] - 0s 2ms/step - loss: 3737.2424 - mae: 3737.2424 - mse: 50738988.0000 - val_loss: 3208.1309 - val_mae: 3208.1309 - val_mse: 41388000.0000\n",
      "Epoch 81/100\n",
      "27/27 [==============================] - 0s 2ms/step - loss: 3712.8718 - mae: 3712.8718 - mse: 50069456.0000 - val_loss: 3199.5833 - val_mae: 3199.5833 - val_mse: 42057756.0000\n",
      "Epoch 82/100\n",
      "27/27 [==============================] - 0s 2ms/step - loss: 3733.5864 - mae: 3733.5864 - mse: 49919372.0000 - val_loss: 3168.5671 - val_mae: 3168.5671 - val_mse: 40883612.0000\n",
      "Epoch 83/100\n",
      "27/27 [==============================] - 0s 2ms/step - loss: 3721.0417 - mae: 3721.0417 - mse: 49130200.0000 - val_loss: 3163.4688 - val_mae: 3163.4688 - val_mse: 39902900.0000\n",
      "Epoch 84/100\n",
      "27/27 [==============================] - 0s 2ms/step - loss: 3701.8291 - mae: 3701.8291 - mse: 48565132.0000 - val_loss: 3157.6458 - val_mae: 3157.6458 - val_mse: 39128904.0000\n",
      "Epoch 85/100\n",
      "27/27 [==============================] - 0s 2ms/step - loss: 3737.6516 - mae: 3737.6516 - mse: 48438840.0000 - val_loss: 3251.9961 - val_mae: 3251.9961 - val_mse: 37524704.0000\n",
      "Epoch 86/100\n",
      "27/27 [==============================] - 0s 2ms/step - loss: 3722.1072 - mae: 3722.1072 - mse: 48227064.0000 - val_loss: 3133.1743 - val_mae: 3133.1743 - val_mse: 39512276.0000\n",
      "Epoch 87/100\n",
      "27/27 [==============================] - 0s 2ms/step - loss: 3771.6462 - mae: 3771.6462 - mse: 47589264.0000 - val_loss: 3148.7678 - val_mae: 3148.7678 - val_mse: 38409900.0000\n",
      "Epoch 88/100\n",
      "27/27 [==============================] - 0s 2ms/step - loss: 3726.1345 - mae: 3726.1345 - mse: 47907256.0000 - val_loss: 3116.4463 - val_mae: 3116.4463 - val_mse: 38205580.0000\n",
      "Epoch 89/100\n",
      "27/27 [==============================] - 0s 2ms/step - loss: 3708.3450 - mae: 3708.3450 - mse: 47331696.0000 - val_loss: 3195.8403 - val_mae: 3195.8403 - val_mse: 36670540.0000\n",
      "Epoch 90/100\n",
      "27/27 [==============================] - 0s 2ms/step - loss: 3704.1924 - mae: 3704.1924 - mse: 46767912.0000 - val_loss: 3107.6082 - val_mae: 3107.6082 - val_mse: 37145816.0000\n",
      "Epoch 91/100\n",
      "27/27 [==============================] - 0s 2ms/step - loss: 3687.5635 - mae: 3687.5635 - mse: 46655484.0000 - val_loss: 3192.8130 - val_mae: 3192.8130 - val_mse: 35497312.0000\n",
      "Epoch 92/100\n",
      "27/27 [==============================] - 0s 2ms/step - loss: 3687.2573 - mae: 3687.2573 - mse: 45986796.0000 - val_loss: 3065.7097 - val_mae: 3065.7097 - val_mse: 36515736.0000\n",
      "Epoch 93/100\n",
      "27/27 [==============================] - 0s 2ms/step - loss: 3653.1396 - mae: 3653.1396 - mse: 46152560.0000 - val_loss: 3127.8481 - val_mae: 3127.8479 - val_mse: 37041972.0000\n",
      "Epoch 94/100\n",
      "27/27 [==============================] - 0s 2ms/step - loss: 3671.3630 - mae: 3671.3630 - mse: 45729588.0000 - val_loss: 3081.5679 - val_mae: 3081.5679 - val_mse: 36555700.0000\n",
      "Epoch 95/100\n",
      "27/27 [==============================] - 0s 2ms/step - loss: 3657.7773 - mae: 3657.7773 - mse: 45481624.0000 - val_loss: 3044.5042 - val_mae: 3044.5042 - val_mse: 35841604.0000\n",
      "Epoch 96/100\n",
      "27/27 [==============================] - 0s 2ms/step - loss: 3712.9346 - mae: 3712.9346 - mse: 44932552.0000 - val_loss: 3197.5610 - val_mae: 3197.5610 - val_mse: 36912652.0000\n",
      "Epoch 97/100\n",
      "27/27 [==============================] - 0s 2ms/step - loss: 3684.3926 - mae: 3684.3926 - mse: 45157356.0000 - val_loss: 3075.9773 - val_mae: 3075.9773 - val_mse: 35620404.0000\n",
      "Epoch 98/100\n",
      "27/27 [==============================] - 0s 2ms/step - loss: 3634.8015 - mae: 3634.8015 - mse: 44869812.0000 - val_loss: 3132.5317 - val_mae: 3132.5317 - val_mse: 35817028.0000\n",
      "Epoch 99/100\n",
      "27/27 [==============================] - 0s 2ms/step - loss: 3652.8523 - mae: 3652.8523 - mse: 44645392.0000 - val_loss: 3038.1931 - val_mae: 3038.1931 - val_mse: 34950780.0000\n",
      "Epoch 100/100\n",
      "27/27 [==============================] - 0s 2ms/step - loss: 3649.4658 - mae: 3649.4658 - mse: 44343808.0000 - val_loss: 3079.1453 - val_mae: 3079.1455 - val_mse: 35073436.0000\n",
      "9/9 [==============================] - 0s 876us/step - loss: 3008.8706 - mae: 3008.8706 - mse: 38033392.0000\n",
      "Mean Absolute Error on test dataset: [3008.87060546875, 3008.87060546875, 38033392.0]\n"
     ]
    }
   ],
   "source": [
    "# Building the model\n",
    "model = tf.keras.Sequential([\n",
    "    tf.keras.layers.Dense(128, activation = 'relu', input_shape = [len(train_dataset.keys())]),\n",
    "    tf.keras.layers.Dense(128, activation = 'relu'),\n",
    "    tf.keras.layers.Dense(128, activation = 'relu'),\n",
    "    tf.keras.layers.Dense(1)])\n",
    "\n",
    "model.compile(optimizer ='adam', loss ='mae', metrics = ['mae', 'mse'])\n",
    "\n",
    "history = model.fit(train_dataset, train_labels, epochs = 100, validation_split = 0.2)\n",
    "\n",
    "# Evaluate the model\n",
    "loss = model.evaluate(test_dataset, test_labels)\n",
    "print(\"Mean Absolute Error on test dataset:\", loss)"
   ]
  },
  {
   "cell_type": "code",
   "execution_count": 14,
   "id": "4301ecd5-bcf2-48b7-8463-2a985507fe95",
   "metadata": {},
   "outputs": [
    {
     "name": "stdout",
     "output_type": "stream",
     "text": [
      "9/9 - 0s - loss: 3008.8706 - mae: 3008.8706 - mse: 38033392.0000 - 18ms/epoch - 2ms/step\n",
      "Testing set Mean Abs Error: 3008.87 expenses\n",
      "You passed the challenge. Great job!\n",
      "9/9 [==============================] - 0s 751us/step\n"
     ]
    },
    {
     "data": {
      "image/png": "[encoded data removed]",
      "text/plain": [
       "<Figure size 640x480 with 1 Axes>"
      ]
     },
     "metadata": {},
     "output_type": "display_data"
    }
   ],
   "source": [
    "# RUN THIS CELL TO TEST YOUR MODEL. DO NOT MODIFY CONTENTS.\n",
    "# Test model by checking how well the model generalizes using the test set.\n",
    "loss, mae, mse = model.evaluate(test_dataset, test_labels, verbose=2)\n",
    "\n",
    "print(\"Testing set Mean Abs Error: {:5.2f} expenses\".format(mae))\n",
    "\n",
    "if mae < 3500:\n",
    "  print(\"You passed the challenge. Great job!\")\n",
    "else:\n",
    "  print(\"The Mean Abs Error must be less than 3500. Keep trying.\")\n",
    "\n",
    "# Plot predictions.\n",
    "test_predictions = model.predict(test_dataset).flatten()\n",
    "\n",
    "a = plt.axes(aspect='equal')\n",
    "plt.scatter(test_labels, test_predictions)\n",
    "plt.xlabel('True values (expenses)')\n",
    "plt.ylabel('Predictions (expenses)')\n",
    "lims = [0, 50000]\n",
    "plt.xlim(lims)\n",
    "plt.ylim(lims)\n",
    "_ = plt.plot(lims,lims)"
   ]
  },
  {
   "cell_type": "code",
   "execution_count": 15,
   "id": "bd06914a-1c44-428d-ba84-2daef4ed5334",
   "metadata": {},
   "outputs": [
    {
     "name": "stdin",
     "output_type": "stream",
     "text": [
      "Enter age:  50\n",
      "Enter sex (male/female):  female\n",
      "Enter BMI:  28\n",
      "Enter number of children:  5\n",
      "Smoker? (yes/no):  no\n",
      "Enter region (southwest/southeast/northwest/northeast):  southeast\n"
     ]
    },
    {
     "name": "stdout",
     "output_type": "stream",
     "text": [
      "1/1 [==============================] - 0s 34ms/step\n",
      "Predicted healthcare expenses: $11930.25\n"
     ]
    }
   ],
   "source": [
    "# Function to preprocess user input\n",
    "def preprocess_input(age, sex, bmi, children, smoker, region):\n",
    "    # Convert categorical inputs to numerical format\n",
    "    sex = 1 if sex.lower() == 'male' else 0\n",
    "    smoker = 1 if smoker.lower() == 'yes' else 0\n",
    "    region_mapping = {'southwest': 0, 'southeast': 1, 'northwest': 2, 'northeast': 3}\n",
    "    region = region_mapping.get(region.lower(), -1)\n",
    "    \n",
    "    # Return preprocessed input as numpy array\n",
    "    return np.array([[age, sex, bmi, children, smoker, region]])\n",
    "\n",
    "# Get user input\n",
    "age = int(input(\"Enter age: \"))\n",
    "sex = input(\"Enter sex (male/female): \")\n",
    "bmi = float(input(\"Enter BMI: \"))\n",
    "children = int(input(\"Enter number of children: \"))\n",
    "smoker = input(\"Smoker? (yes/no): \")\n",
    "region = input(\"Enter region (southwest/southeast/northwest/northeast): \")\n",
    "\n",
    "# Preprocess user input\n",
    "input_data = preprocess_input(age, sex, bmi, children, smoker, region)\n",
    "\n",
    "# Predict expenses\n",
    "predicted_expenses = model.predict(input_data)[0][0]\n",
    "\n",
    "# Display predicted expenses\n",
    "print(\"Predicted healthcare expenses: ${:.2f}\".format(predicted_expenses))"
   ]
  },
  {
   "cell_type": "code",
   "execution_count": null,
   "id": "45e8c30a-99a9-45c3-ab11-181846d63e76",
   "metadata": {},
   "outputs": [],
   "source": []
  }
 ],
 "metadata": {
  "kernelspec": {
   "display_name": "Python 3 (ipykernel)",
   "language": "python",
   "name": "python3"
  },
  "language_info": {
   "codemirror_mode": {
    "name": "ipython",
    "version": 3
   },
   "file_extension": ".py",
   "mimetype": "text/x-python",
   "name": "python",
   "nbconvert_exporter": "python",
   "pygments_lexer": "ipython3",
   "version": "3.10.9"
  }
 },
 "nbformat": 4,
 "nbformat_minor": 5
}
