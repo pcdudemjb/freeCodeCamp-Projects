{
 "cells": [
  {
   "cell_type": "code",
   "execution_count": 1,
   "id": "13378a2c-399f-443a-93ac-3c49abe2cd15",
   "metadata": {},
   "outputs": [],
   "source": [
    "def player(prev_play, opponent_history=[], play_order={}):\n",
    "    # If no previous play is provided, default to 'R' (Rock)\n",
    "    if not prev_play:\n",
    "        prev_play = 'R'\n",
    "\n",
    "    # Append the opponent's previous play to the opponent's history\n",
    "    opponent_history.append(prev_play)\n",
    "    \n",
    "    # Initialize prediction to 'P' (Paper) as a default move\n",
    "    prediction = 'P'\n",
    "\n",
    "    # Record the last five moves of the opponent and update play order\n",
    "    if len(opponent_history) > 4:\n",
    "        last_five = \"\".join(opponent_history[-5:])\n",
    "        play_order[last_five] = play_order.get(last_five, 0) + 1\n",
    "        \n",
    "        # Generate potential plays based on the last four moves and 'R', 'P', 'S'\n",
    "        potential_plays = [\n",
    "            \"\".join([*opponent_history[-4:], v]) \n",
    "            for v in ['R', 'P', 'S']]\n",
    "\n",
    "        # Filter out potential plays not found in the play order\n",
    "        sub_order = {\n",
    "            k: play_order[k]\n",
    "            for k in potential_plays if k in play_order}\n",
    "\n",
    "        # If sub_order is not empty, predict the next move based on highest frequency\n",
    "        if sub_order:\n",
    "            prediction = max(sub_order, key=sub_order.get)[-1:]\n",
    "\n",
    "    # Define the ideal response to the predicted move\n",
    "    ideal_response = {'P': 'S', 'R': 'P', 'S': 'R'}\n",
    "\n",
    "    # Return the ideal response to counter the predicted move\n",
    "    return ideal_response[prediction]"
   ]
  },
  {
   "cell_type": "code",
   "execution_count": 2,
   "id": "bd20f775-40a4-4d14-bbb8-9c090ce4128a",
   "metadata": {},
   "outputs": [
    {
     "name": "stdout",
     "output_type": "stream",
     "text": [
      "Final results: {'p1': 996, 'p2': 3, 'tie': 1}\n",
      "Player 1 win rate: 99.69969969969969%\n",
      "Final results: {'p1': 459, 'p2': 291, 'tie': 250}\n",
      "Player 1 win rate: 61.199999999999996%\n",
      "Final results: {'p1': 921, 'p2': 39, 'tie': 40}\n",
      "Player 1 win rate: 95.9375%\n",
      "Final results: {'p1': 806, 'p2': 169, 'tie': 25}\n",
      "Player 1 win rate: 82.66666666666667%\n",
      "\n",
      "Testing game against abbey...\n",
      "Final results: {'p1': 434, 'p2': 247, 'tie': 319}\n",
      "Player 1 win rate: 63.729809104258436%\n",
      "Testing game against kris...\n",
      "Final results: {'p1': 926, 'p2': 45, 'tie': 29}\n",
      "Player 1 win rate: 95.36560247167868%\n",
      "Testing game against mrugesh...\n",
      "Final results: {'p1': 842, 'p2': 158, 'tie': 0}\n",
      "Player 1 win rate: 84.2%\n",
      "Testing game against quincy...\n",
      "Final results: {'p1': 999, 'p2': 0, 'tie': 1}\n",
      "Player 1 win rate: 100.0%\n"
     ]
    },
    {
     "name": "stderr",
     "output_type": "stream",
     "text": [
      "....\n",
      "----------------------------------------------------------------------\n",
      "Ran 4 tests in 0.015s\n",
      "\n",
      "OK\n"
     ]
    }
   ],
   "source": [
    "# Play against opponents\n",
    "!python main.py"
   ]
  },
  {
   "cell_type": "code",
   "execution_count": null,
   "id": "9edeae3b-0ce6-4d00-b84c-5a1c3d740d98",
   "metadata": {},
   "outputs": [],
   "source": []
  }
 ],
 "metadata": {
  "kernelspec": {
   "display_name": "Python 3 (ipykernel)",
   "language": "python",
   "name": "python3"
  },
  "language_info": {
   "codemirror_mode": {
    "name": "ipython",
    "version": 3
   },
   "file_extension": ".py",
   "mimetype": "text/x-python",
   "name": "python",
   "nbconvert_exporter": "python",
   "pygments_lexer": "ipython3",
   "version": "3.10.9"
  }
 },
 "nbformat": 4,
 "nbformat_minor": 5
}
