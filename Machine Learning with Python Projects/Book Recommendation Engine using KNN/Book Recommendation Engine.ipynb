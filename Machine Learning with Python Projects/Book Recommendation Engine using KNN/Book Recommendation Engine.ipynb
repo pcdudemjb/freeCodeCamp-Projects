{
 "cells": [
  {
   "cell_type": "code",
   "execution_count": 1,
   "id": "02a43711-3119-4c50-93f6-db320413fd0a",
   "metadata": {},
   "outputs": [],
   "source": [
    "# Import libraries\n",
    "import numpy as np\n",
    "import pandas as pd\n",
    "from scipy.sparse import csr_matrix\n",
    "from sklearn.neighbors import NearestNeighbors\n",
    "import matplotlib.pyplot as plt"
   ]
  },
  {
   "cell_type": "code",
   "execution_count": 2,
   "id": "f6ff90b8-301a-4a5c-ad10-af373f339766",
   "metadata": {},
   "outputs": [],
   "source": [
    "# Get data files\n",
    "# !wget https://cdn.freecodecamp.org/project-data/books/book-crossings.zip\n",
    "\n",
    "# !unzip book-crossings.zip\n",
    "\n",
    "books_filename = 'BX-Books.csv'\n",
    "ratings_filename = 'BX-Book-Ratings.csv'"
   ]
  },
  {
   "cell_type": "code",
   "execution_count": 3,
   "id": "d1b84856-bf56-4c36-8562-14aa78d358a9",
   "metadata": {},
   "outputs": [],
   "source": [
    "# Import csv data into dataframes\n",
    "df_books = pd.read_csv(\n",
    "    books_filename,\n",
    "    encoding = \"ISO-8859-1\",\n",
    "    sep = \";\",\n",
    "    header = 0,\n",
    "    names = ['isbn', 'title', 'author'],\n",
    "    usecols = ['isbn', 'title', 'author'],\n",
    "    dtype = {'isbn': 'str', 'title': 'str', 'author': 'str'})\n",
    "\n",
    "df_ratings = pd.read_csv(\n",
    "    ratings_filename,\n",
    "    encoding = \"ISO-8859-1\",\n",
    "    sep = \";\",\n",
    "    header = 0,\n",
    "    names = ['user', 'isbn', 'rating'],\n",
    "    usecols = ['user', 'isbn', 'rating'],\n",
    "    dtype = {'user': 'int32', 'isbn': 'str', 'rating': 'float32'})"
   ]
  },
  {
   "cell_type": "code",
   "execution_count": 4,
   "id": "ca3c4455-5d1c-4dee-9b73-f5c351597b88",
   "metadata": {},
   "outputs": [
    {
     "name": "stdout",
     "output_type": "stream",
     "text": [
      "<class 'pandas.core.frame.DataFrame'>\n",
      "RangeIndex: 271379 entries, 0 to 271378\n",
      "Data columns (total 3 columns):\n",
      " #   Column  Non-Null Count   Dtype \n",
      "---  ------  --------------   ----- \n",
      " 0   isbn    271379 non-null  object\n",
      " 1   title   271379 non-null  object\n",
      " 2   author  271378 non-null  object\n",
      "dtypes: object(3)\n",
      "memory usage: 6.2+ MB\n"
     ]
    }
   ],
   "source": [
    "df_books.info()"
   ]
  },
  {
   "cell_type": "code",
   "execution_count": 5,
   "id": "0c8ff20c-d2af-4278-887d-2c6e4322b547",
   "metadata": {},
   "outputs": [
    {
     "name": "stdout",
     "output_type": "stream",
     "text": [
      "<class 'pandas.core.frame.DataFrame'>\n",
      "RangeIndex: 1149780 entries, 0 to 1149779\n",
      "Data columns (total 3 columns):\n",
      " #   Column  Non-Null Count    Dtype  \n",
      "---  ------  --------------    -----  \n",
      " 0   user    1149780 non-null  int32  \n",
      " 1   isbn    1149780 non-null  object \n",
      " 2   rating  1149780 non-null  float32\n",
      "dtypes: float32(1), int32(1), object(1)\n",
      "memory usage: 17.5+ MB\n"
     ]
    }
   ],
   "source": [
    "df_ratings.info()"
   ]
  },
  {
   "cell_type": "code",
   "execution_count": 6,
   "id": "abe27e4c-ba92-4675-97f1-b33baf60e20a",
   "metadata": {},
   "outputs": [
    {
     "name": "stdout",
     "output_type": "stream",
     "text": [
      "isbn      0\n",
      "title     0\n",
      "author    1\n",
      "dtype: int64\n",
      "              isbn                                              title author\n",
      "187700  9627982032  The Credit Suisse Guide to Managing Your Perso...    NaN\n",
      "isbn      0\n",
      "title     0\n",
      "author    0\n",
      "dtype: int64\n"
     ]
    }
   ],
   "source": [
    "# Checking for missing values in df_books\n",
    "books_null0 = df_books.isnull().sum()\n",
    "print(books_null0)\n",
    "missing_author = df_books.loc[df_books['author'].isnull()]\n",
    "print(missing_author)\n",
    "df_books = df_books.dropna(subset=['author'])\n",
    "books_null1 = df_books.isnull().sum()\n",
    "print(books_null1)"
   ]
  },
  {
   "cell_type": "code",
   "execution_count": 7,
   "id": "ac3792a5-532f-4e9d-9674-40978816c676",
   "metadata": {},
   "outputs": [
    {
     "name": "stdout",
     "output_type": "stream",
     "text": [
      "user      0\n",
      "isbn      0\n",
      "rating    0\n",
      "dtype: int64\n"
     ]
    }
   ],
   "source": [
    "# Checking for missing values in df_ratings\n",
    "ratings_null = df_ratings.isnull().sum()\n",
    "print(ratings_null)"
   ]
  },
  {
   "cell_type": "code",
   "execution_count": 8,
   "id": "95cc7923-c4ad-4876-b00c-36d9e0ec4e94",
   "metadata": {},
   "outputs": [
    {
     "name": "stdout",
     "output_type": "stream",
     "text": [
      "29225\n",
      "0\n"
     ]
    }
   ],
   "source": [
    "# Check for duplicates in the data\n",
    "duplicates0 = df_books['title'].duplicated().sum()\n",
    "print(duplicates0)\n",
    "df_books_cleaned = df_books.drop_duplicates(subset = ['title'])\n",
    "duplicates1 = df_books_cleaned['title'].duplicated().sum()\n",
    "print(duplicates1)"
   ]
  },
  {
   "cell_type": "code",
   "execution_count": 9,
   "id": "46e1bf25-d180-40d8-a633-c9b9d72220a2",
   "metadata": {},
   "outputs": [
    {
     "data": {
      "image/png": "[encoded data removed]",
      "text/plain": [
       "<Figure size 400x300 with 1 Axes>"
      ]
     },
     "metadata": {},
     "output_type": "display_data"
    }
   ],
   "source": [
    "# Plotting the distribution of ratings\n",
    "plt.figure(figsize=(4, 3))\n",
    "plt.hist(df_ratings['rating'], bins=10, color='skyblue', edgecolor='black')\n",
    "plt.title('Distribution of Ratings')\n",
    "plt.xlabel('Rating')\n",
    "plt.ylabel('Frequency')\n",
    "plt.grid(False)\n",
    "plt.show()"
   ]
  },
  {
   "cell_type": "code",
   "execution_count": 10,
   "id": "1c8070d9-f01f-4106-b075-42b610988d43",
   "metadata": {},
   "outputs": [
    {
     "data": {
      "image/png": "[encoded data removed]",
      "text/plain": [
       "<Figure size 400x300 with 1 Axes>"
      ]
     },
     "metadata": {},
     "output_type": "display_data"
    }
   ],
   "source": [
    "# Filter out 0 ratings\n",
    "non_zero_ratings = df_ratings[df_ratings['rating'] != 0]\n",
    "\n",
    "# Plotting the distribution of non-zero ratings\n",
    "plt.figure(figsize=(4, 3))\n",
    "plt.hist(non_zero_ratings['rating'], bins=10, color='skyblue', edgecolor='black')\n",
    "plt.title('Distribution of Non-Zero Ratings')\n",
    "plt.xlabel('Rating')\n",
    "plt.ylabel('Frequency')\n",
    "plt.grid(False)\n",
    "plt.show()"
   ]
  },
  {
   "cell_type": "code",
   "execution_count": 11,
   "id": "4853c61f-aace-4a9b-af5a-bf491f152c24",
   "metadata": {},
   "outputs": [
    {
     "name": "stdout",
     "output_type": "stream",
     "text": [
      "(1149780, 3)\n",
      "(49781, 3)\n"
     ]
    }
   ],
   "source": [
    "# To ensure statistical significance, removing from the dataset users with less than 200 ratings\n",
    "# and books with less than 100 ratings.\n",
    "user_ratings_count = df_ratings.groupby('user').size()   # Counts ratings per user\n",
    "book_ratings_count = df_ratings.groupby('isbn').size()    # Counts ratings per book\n",
    "\n",
    "# New filtered df\n",
    "df_filtered = df_ratings[\n",
    "    df_ratings['user'].isin(user_ratings_count[user_ratings_count >= 200].index) &\n",
    "    df_ratings['isbn'].isin(book_ratings_count[book_ratings_count >= 100].index)]\n",
    "print(df_ratings.shape)\n",
    "print(df_filtered.shape)"
   ]
  },
  {
   "cell_type": "code",
   "execution_count": 12,
   "id": "d64364e4-387a-4285-92ae-e2c31be441e0",
   "metadata": {},
   "outputs": [
    {
     "data": {
      "text/html": [
       "<div>\n",
       "<style scoped>\n",
       "    .dataframe tbody tr th:only-of-type {\n",
       "        vertical-align: middle;\n",
       "    }\n",
       "\n",
       "    .dataframe tbody tr th {\n",
       "        vertical-align: top;\n",
       "    }\n",
       "\n",
       "    .dataframe thead th {\n",
       "        text-align: right;\n",
       "    }\n",
       "</style>\n",
       "<table border=\"1\" class=\"dataframe\">\n",
       "  <thead>\n",
       "    <tr style=\"text-align: right;\">\n",
       "      <th></th>\n",
       "      <th>isbn</th>\n",
       "      <th>title</th>\n",
       "      <th>author</th>\n",
       "      <th>user</th>\n",
       "      <th>rating</th>\n",
       "    </tr>\n",
       "  </thead>\n",
       "  <tbody>\n",
       "    <tr>\n",
       "      <th>0</th>\n",
       "      <td>0440234743</td>\n",
       "      <td>The Testament</td>\n",
       "      <td>John Grisham</td>\n",
       "      <td>277478</td>\n",
       "      <td>0.0</td>\n",
       "    </tr>\n",
       "    <tr>\n",
       "      <th>1</th>\n",
       "      <td>0440234743</td>\n",
       "      <td>The Testament</td>\n",
       "      <td>John Grisham</td>\n",
       "      <td>2977</td>\n",
       "      <td>0.0</td>\n",
       "    </tr>\n",
       "    <tr>\n",
       "      <th>2</th>\n",
       "      <td>0440234743</td>\n",
       "      <td>The Testament</td>\n",
       "      <td>John Grisham</td>\n",
       "      <td>3363</td>\n",
       "      <td>0.0</td>\n",
       "    </tr>\n",
       "    <tr>\n",
       "      <th>3</th>\n",
       "      <td>0440234743</td>\n",
       "      <td>The Testament</td>\n",
       "      <td>John Grisham</td>\n",
       "      <td>7346</td>\n",
       "      <td>9.0</td>\n",
       "    </tr>\n",
       "    <tr>\n",
       "      <th>4</th>\n",
       "      <td>0440234743</td>\n",
       "      <td>The Testament</td>\n",
       "      <td>John Grisham</td>\n",
       "      <td>9856</td>\n",
       "      <td>0.0</td>\n",
       "    </tr>\n",
       "  </tbody>\n",
       "</table>\n",
       "</div>"
      ],
      "text/plain": [
       "         isbn          title        author    user  rating\n",
       "0  0440234743  The Testament  John Grisham  277478     0.0\n",
       "1  0440234743  The Testament  John Grisham    2977     0.0\n",
       "2  0440234743  The Testament  John Grisham    3363     0.0\n",
       "3  0440234743  The Testament  John Grisham    7346     9.0\n",
       "4  0440234743  The Testament  John Grisham    9856     0.0"
      ]
     },
     "execution_count": 12,
     "metadata": {},
     "output_type": "execute_result"
    }
   ],
   "source": [
    "# Merging dataframes\n",
    "merged_df = pd.merge(left = df_books_cleaned, right = df_filtered, on='isbn')\n",
    "df = merged_df.drop_duplicates([\"title\", \"user\"])\n",
    "# Display the merged DataFrame\n",
    "df.head()"
   ]
  },
  {
   "cell_type": "code",
   "execution_count": 13,
   "id": "e477b77f-24ed-40b5-844e-cf05cb6edce9",
   "metadata": {},
   "outputs": [
    {
     "name": "stdout",
     "output_type": "stream",
     "text": [
      "(40804, 5)\n"
     ]
    }
   ],
   "source": [
    "print(df.shape)"
   ]
  },
  {
   "cell_type": "code",
   "execution_count": 14,
   "id": "f135448e-b799-4c25-8580-10167fc9d48a",
   "metadata": {},
   "outputs": [
    {
     "data": {
      "text/html": [
       "<div>\n",
       "<style scoped>\n",
       "    .dataframe tbody tr th:only-of-type {\n",
       "        vertical-align: middle;\n",
       "    }\n",
       "\n",
       "    .dataframe tbody tr th {\n",
       "        vertical-align: top;\n",
       "    }\n",
       "\n",
       "    .dataframe thead th {\n",
       "        text-align: right;\n",
       "    }\n",
       "</style>\n",
       "<table border=\"1\" class=\"dataframe\">\n",
       "  <thead>\n",
       "    <tr style=\"text-align: right;\">\n",
       "      <th>user</th>\n",
       "      <th>254</th>\n",
       "      <th>2276</th>\n",
       "      <th>2766</th>\n",
       "      <th>2977</th>\n",
       "      <th>3363</th>\n",
       "      <th>4017</th>\n",
       "      <th>4385</th>\n",
       "      <th>6242</th>\n",
       "      <th>6251</th>\n",
       "      <th>6323</th>\n",
       "      <th>...</th>\n",
       "      <th>274004</th>\n",
       "      <th>274061</th>\n",
       "      <th>274301</th>\n",
       "      <th>274308</th>\n",
       "      <th>274808</th>\n",
       "      <th>275970</th>\n",
       "      <th>277427</th>\n",
       "      <th>277478</th>\n",
       "      <th>277639</th>\n",
       "      <th>278418</th>\n",
       "    </tr>\n",
       "    <tr>\n",
       "      <th>title</th>\n",
       "      <th></th>\n",
       "      <th></th>\n",
       "      <th></th>\n",
       "      <th></th>\n",
       "      <th></th>\n",
       "      <th></th>\n",
       "      <th></th>\n",
       "      <th></th>\n",
       "      <th></th>\n",
       "      <th></th>\n",
       "      <th></th>\n",
       "      <th></th>\n",
       "      <th></th>\n",
       "      <th></th>\n",
       "      <th></th>\n",
       "      <th></th>\n",
       "      <th></th>\n",
       "      <th></th>\n",
       "      <th></th>\n",
       "      <th></th>\n",
       "      <th></th>\n",
       "    </tr>\n",
       "  </thead>\n",
       "  <tbody>\n",
       "    <tr>\n",
       "      <th>1984</th>\n",
       "      <td>9.0</td>\n",
       "      <td>0.0</td>\n",
       "      <td>0.0</td>\n",
       "      <td>0.0</td>\n",
       "      <td>0.0</td>\n",
       "      <td>0.0</td>\n",
       "      <td>0.0</td>\n",
       "      <td>0.0</td>\n",
       "      <td>0.0</td>\n",
       "      <td>0.0</td>\n",
       "      <td>...</td>\n",
       "      <td>0.0</td>\n",
       "      <td>0.0</td>\n",
       "      <td>0.0</td>\n",
       "      <td>0.0</td>\n",
       "      <td>0.0</td>\n",
       "      <td>0.0</td>\n",
       "      <td>0.0</td>\n",
       "      <td>0.0</td>\n",
       "      <td>0.0</td>\n",
       "      <td>0.0</td>\n",
       "    </tr>\n",
       "    <tr>\n",
       "      <th>1st to Die: A Novel</th>\n",
       "      <td>0.0</td>\n",
       "      <td>0.0</td>\n",
       "      <td>0.0</td>\n",
       "      <td>0.0</td>\n",
       "      <td>0.0</td>\n",
       "      <td>0.0</td>\n",
       "      <td>0.0</td>\n",
       "      <td>0.0</td>\n",
       "      <td>0.0</td>\n",
       "      <td>0.0</td>\n",
       "      <td>...</td>\n",
       "      <td>0.0</td>\n",
       "      <td>0.0</td>\n",
       "      <td>0.0</td>\n",
       "      <td>0.0</td>\n",
       "      <td>0.0</td>\n",
       "      <td>0.0</td>\n",
       "      <td>0.0</td>\n",
       "      <td>0.0</td>\n",
       "      <td>0.0</td>\n",
       "      <td>0.0</td>\n",
       "    </tr>\n",
       "    <tr>\n",
       "      <th>2nd Chance</th>\n",
       "      <td>0.0</td>\n",
       "      <td>0.0</td>\n",
       "      <td>0.0</td>\n",
       "      <td>0.0</td>\n",
       "      <td>0.0</td>\n",
       "      <td>0.0</td>\n",
       "      <td>0.0</td>\n",
       "      <td>0.0</td>\n",
       "      <td>0.0</td>\n",
       "      <td>0.0</td>\n",
       "      <td>...</td>\n",
       "      <td>0.0</td>\n",
       "      <td>0.0</td>\n",
       "      <td>0.0</td>\n",
       "      <td>0.0</td>\n",
       "      <td>0.0</td>\n",
       "      <td>0.0</td>\n",
       "      <td>0.0</td>\n",
       "      <td>0.0</td>\n",
       "      <td>0.0</td>\n",
       "      <td>0.0</td>\n",
       "    </tr>\n",
       "    <tr>\n",
       "      <th>4 Blondes</th>\n",
       "      <td>0.0</td>\n",
       "      <td>0.0</td>\n",
       "      <td>0.0</td>\n",
       "      <td>0.0</td>\n",
       "      <td>0.0</td>\n",
       "      <td>0.0</td>\n",
       "      <td>0.0</td>\n",
       "      <td>0.0</td>\n",
       "      <td>0.0</td>\n",
       "      <td>0.0</td>\n",
       "      <td>...</td>\n",
       "      <td>0.0</td>\n",
       "      <td>0.0</td>\n",
       "      <td>0.0</td>\n",
       "      <td>0.0</td>\n",
       "      <td>0.0</td>\n",
       "      <td>0.0</td>\n",
       "      <td>0.0</td>\n",
       "      <td>0.0</td>\n",
       "      <td>0.0</td>\n",
       "      <td>0.0</td>\n",
       "    </tr>\n",
       "    <tr>\n",
       "      <th>A Beautiful Mind: The Life of Mathematical Genius and Nobel Laureate John Nash</th>\n",
       "      <td>0.0</td>\n",
       "      <td>0.0</td>\n",
       "      <td>0.0</td>\n",
       "      <td>0.0</td>\n",
       "      <td>0.0</td>\n",
       "      <td>0.0</td>\n",
       "      <td>0.0</td>\n",
       "      <td>0.0</td>\n",
       "      <td>0.0</td>\n",
       "      <td>0.0</td>\n",
       "      <td>...</td>\n",
       "      <td>0.0</td>\n",
       "      <td>0.0</td>\n",
       "      <td>0.0</td>\n",
       "      <td>0.0</td>\n",
       "      <td>0.0</td>\n",
       "      <td>0.0</td>\n",
       "      <td>0.0</td>\n",
       "      <td>0.0</td>\n",
       "      <td>0.0</td>\n",
       "      <td>0.0</td>\n",
       "    </tr>\n",
       "  </tbody>\n",
       "</table>\n",
       "<p>5 rows × 887 columns</p>\n",
       "</div>"
      ],
      "text/plain": [
       "user                                                254     2276    2766    \\\n",
       "title                                                                        \n",
       "1984                                                   9.0     0.0     0.0   \n",
       "1st to Die: A Novel                                    0.0     0.0     0.0   \n",
       "2nd Chance                                             0.0     0.0     0.0   \n",
       "4 Blondes                                              0.0     0.0     0.0   \n",
       "A Beautiful Mind: The Life of Mathematical Geni...     0.0     0.0     0.0   \n",
       "\n",
       "user                                                2977    3363    4017    \\\n",
       "title                                                                        \n",
       "1984                                                   0.0     0.0     0.0   \n",
       "1st to Die: A Novel                                    0.0     0.0     0.0   \n",
       "2nd Chance                                             0.0     0.0     0.0   \n",
       "4 Blondes                                              0.0     0.0     0.0   \n",
       "A Beautiful Mind: The Life of Mathematical Geni...     0.0     0.0     0.0   \n",
       "\n",
       "user                                                4385    6242    6251    \\\n",
       "title                                                                        \n",
       "1984                                                   0.0     0.0     0.0   \n",
       "1st to Die: A Novel                                    0.0     0.0     0.0   \n",
       "2nd Chance                                             0.0     0.0     0.0   \n",
       "4 Blondes                                              0.0     0.0     0.0   \n",
       "A Beautiful Mind: The Life of Mathematical Geni...     0.0     0.0     0.0   \n",
       "\n",
       "user                                                6323    ...  274004  \\\n",
       "title                                                       ...           \n",
       "1984                                                   0.0  ...     0.0   \n",
       "1st to Die: A Novel                                    0.0  ...     0.0   \n",
       "2nd Chance                                             0.0  ...     0.0   \n",
       "4 Blondes                                              0.0  ...     0.0   \n",
       "A Beautiful Mind: The Life of Mathematical Geni...     0.0  ...     0.0   \n",
       "\n",
       "user                                                274061  274301  274308  \\\n",
       "title                                                                        \n",
       "1984                                                   0.0     0.0     0.0   \n",
       "1st to Die: A Novel                                    0.0     0.0     0.0   \n",
       "2nd Chance                                             0.0     0.0     0.0   \n",
       "4 Blondes                                              0.0     0.0     0.0   \n",
       "A Beautiful Mind: The Life of Mathematical Geni...     0.0     0.0     0.0   \n",
       "\n",
       "user                                                274808  275970  277427  \\\n",
       "title                                                                        \n",
       "1984                                                   0.0     0.0     0.0   \n",
       "1st to Die: A Novel                                    0.0     0.0     0.0   \n",
       "2nd Chance                                             0.0     0.0     0.0   \n",
       "4 Blondes                                              0.0     0.0     0.0   \n",
       "A Beautiful Mind: The Life of Mathematical Geni...     0.0     0.0     0.0   \n",
       "\n",
       "user                                                277478  277639  278418  \n",
       "title                                                                       \n",
       "1984                                                   0.0     0.0     0.0  \n",
       "1st to Die: A Novel                                    0.0     0.0     0.0  \n",
       "2nd Chance                                             0.0     0.0     0.0  \n",
       "4 Blondes                                              0.0     0.0     0.0  \n",
       "A Beautiful Mind: The Life of Mathematical Geni...     0.0     0.0     0.0  \n",
       "\n",
       "[5 rows x 887 columns]"
      ]
     },
     "execution_count": 14,
     "metadata": {},
     "output_type": "execute_result"
    }
   ],
   "source": [
    "# Creating a pivot table\n",
    "pivot = df.pivot(index ='title', columns ='user', values ='rating').fillna(0)\n",
    "pivot.head()"
   ]
  },
  {
   "cell_type": "code",
   "execution_count": 15,
   "id": "1c15ce60-5119-4cc9-9496-0fb8e5a26962",
   "metadata": {},
   "outputs": [
    {
     "data": {
      "text/plain": [
       "(594, 887)"
      ]
     },
     "execution_count": 15,
     "metadata": {},
     "output_type": "execute_result"
    }
   ],
   "source": [
    "# Creating a matrix from pivot table values\n",
    "matrix = pivot.values\n",
    "matrix.shape"
   ]
  },
  {
   "cell_type": "code",
   "execution_count": 16,
   "id": "6ea58838-67b1-41cf-b000-bfe8a540cba1",
   "metadata": {},
   "outputs": [
    {
     "data": {
      "text/html": [
       "<style>#sk-container-id-1 {color: black;background-color: white;}#sk-container-id-1 pre{padding: 0;}#sk-container-id-1 div.sk-toggleable {background-color: white;}#sk-container-id-1 label.sk-toggleable__label {cursor: pointer;display: block;width: 100%;margin-bottom: 0;padding: 0.3em;box-sizing: border-box;text-align: center;}#sk-container-id-1 label.sk-toggleable__label-arrow:before {content: \"▸\";float: left;margin-right: 0.25em;color: #696969;}#sk-container-id-1 label.sk-toggleable__label-arrow:hover:before {color: black;}#sk-container-id-1 div.sk-estimator:hover label.sk-toggleable__label-arrow:before {color: black;}#sk-container-id-1 div.sk-toggleable__content {max-height: 0;max-width: 0;overflow: hidden;text-align: left;background-color: #f0f8ff;}#sk-container-id-1 div.sk-toggleable__content pre {margin: 0.2em;color: black;border-radius: 0.25em;background-color: #f0f8ff;}#sk-container-id-1 input.sk-toggleable__control:checked~div.sk-toggleable__content {max-height: 200px;max-width: 100%;overflow: auto;}#sk-container-id-1 input.sk-toggleable__control:checked~label.sk-toggleable__label-arrow:before {content: \"▾\";}#sk-container-id-1 div.sk-estimator input.sk-toggleable__control:checked~label.sk-toggleable__label {background-color: #d4ebff;}#sk-container-id-1 div.sk-label input.sk-toggleable__control:checked~label.sk-toggleable__label {background-color: #d4ebff;}#sk-container-id-1 input.sk-hidden--visually {border: 0;clip: rect(1px 1px 1px 1px);clip: rect(1px, 1px, 1px, 1px);height: 1px;margin: -1px;overflow: hidden;padding: 0;position: absolute;width: 1px;}#sk-container-id-1 div.sk-estimator {font-family: monospace;background-color: #f0f8ff;border: 1px dotted black;border-radius: 0.25em;box-sizing: border-box;margin-bottom: 0.5em;}#sk-container-id-1 div.sk-estimator:hover {background-color: #d4ebff;}#sk-container-id-1 div.sk-parallel-item::after {content: \"\";width: 100%;border-bottom: 1px solid gray;flex-grow: 1;}#sk-container-id-1 div.sk-label:hover label.sk-toggleable__label {background-color: #d4ebff;}#sk-container-id-1 div.sk-serial::before {content: \"\";position: absolute;border-left: 1px solid gray;box-sizing: border-box;top: 0;bottom: 0;left: 50%;z-index: 0;}#sk-container-id-1 div.sk-serial {display: flex;flex-direction: column;align-items: center;background-color: white;padding-right: 0.2em;padding-left: 0.2em;position: relative;}#sk-container-id-1 div.sk-item {position: relative;z-index: 1;}#sk-container-id-1 div.sk-parallel {display: flex;align-items: stretch;justify-content: center;background-color: white;position: relative;}#sk-container-id-1 div.sk-item::before, #sk-container-id-1 div.sk-parallel-item::before {content: \"\";position: absolute;border-left: 1px solid gray;box-sizing: border-box;top: 0;bottom: 0;left: 50%;z-index: -1;}#sk-container-id-1 div.sk-parallel-item {display: flex;flex-direction: column;z-index: 1;position: relative;background-color: white;}#sk-container-id-1 div.sk-parallel-item:first-child::after {align-self: flex-end;width: 50%;}#sk-container-id-1 div.sk-parallel-item:last-child::after {align-self: flex-start;width: 50%;}#sk-container-id-1 div.sk-parallel-item:only-child::after {width: 0;}#sk-container-id-1 div.sk-dashed-wrapped {border: 1px dashed gray;margin: 0 0.4em 0.5em 0.4em;box-sizing: border-box;padding-bottom: 0.4em;background-color: white;}#sk-container-id-1 div.sk-label label {font-family: monospace;font-weight: bold;display: inline-block;line-height: 1.2em;}#sk-container-id-1 div.sk-label-container {text-align: center;}#sk-container-id-1 div.sk-container {/* jupyter's `normalize.less` sets `[hidden] { display: none; }` but bootstrap.min.css set `[hidden] { display: none !important; }` so we also need the `!important` here to be able to override the default hidden behavior on the sphinx rendered scikit-learn.org. See: https://github.com/scikit-learn/scikit-learn/issues/21755 */display: inline-block !important;position: relative;}#sk-container-id-1 div.sk-text-repr-fallback {display: none;}</style><div id=\"sk-container-id-1\" class=\"sk-top-container\"><div class=\"sk-text-repr-fallback\"><pre>NearestNeighbors(algorithm=&#x27;brute&#x27;, metric=&#x27;cosine&#x27;)</pre><b>In a Jupyter environment, please rerun this cell to show the HTML representation or trust the notebook. <br />On GitHub, the HTML representation is unable to render, please try loading this page with nbviewer.org.</b></div><div class=\"sk-container\" hidden><div class=\"sk-item\"><div class=\"sk-estimator sk-toggleable\"><input class=\"sk-toggleable__control sk-hidden--visually\" id=\"sk-estimator-id-1\" type=\"checkbox\" checked><label for=\"sk-estimator-id-1\" class=\"sk-toggleable__label sk-toggleable__label-arrow\">NearestNeighbors</label><div class=\"sk-toggleable__content\"><pre>NearestNeighbors(algorithm=&#x27;brute&#x27;, metric=&#x27;cosine&#x27;)</pre></div></div></div></div></div>"
      ],
      "text/plain": [
       "NearestNeighbors(algorithm='brute', metric='cosine')"
      ]
     },
     "execution_count": 16,
     "metadata": {},
     "output_type": "execute_result"
    }
   ],
   "source": [
    "# Building the KNN model\n",
    "model_knn = NearestNeighbors(metric ='cosine', algorithm ='brute')\n",
    "model_knn.fit(matrix)"
   ]
  },
  {
   "cell_type": "code",
   "execution_count": 17,
   "id": "89e892a7-5732-4709-8185-3cfd227d16d7",
   "metadata": {},
   "outputs": [],
   "source": [
    "# Function to return recommended books - this will be tested\n",
    "def get_recommends(book = \"\", k = 5):\n",
    "    x = pivot.loc[book].array.reshape(1, -1)\n",
    "    distances, indices = model_knn.kneighbors(x,n_neighbors = 6)\n",
    "    R_books = []\n",
    "    for distance,indice in zip(distances[0],indices[0]):\n",
    "        if distance != 0:\n",
    "            R_book = pivot.index[indice]\n",
    "            R_books.append([R_book,distance])\n",
    "    recommended_books = [book,R_books[::-1]]\n",
    "    return recommended_books"
   ]
  },
  {
   "cell_type": "code",
   "execution_count": 18,
   "id": "82f6ba4a-9ed0-40da-94ac-4af8033a6df7",
   "metadata": {},
   "outputs": [
    {
     "data": {
      "text/plain": [
       "['The Queen of the Damned (Vampire Chronicles (Paperback))',\n",
       " [['Catch 22', 0.7939835],\n",
       "  ['The Witching Hour (Lives of the Mayfair Witches)', 0.74486566],\n",
       "  ['Interview with the Vampire', 0.73450685],\n",
       "  ['The Tale of the Body Thief (Vampire Chronicles (Paperback))', 0.53763384],\n",
       "  ['The Vampire Lestat (Vampire Chronicles, Book II)', 0.51784116]]]"
      ]
     },
     "execution_count": 18,
     "metadata": {},
     "output_type": "execute_result"
    }
   ],
   "source": [
    "# Testing function with prompt example\n",
    "get_recommends(\"The Queen of the Damned (Vampire Chronicles (Paperback))\")"
   ]
  },
  {
   "cell_type": "code",
   "execution_count": 19,
   "id": "cb26f19c-4c5a-4125-8dd0-0fd2777ac1b2",
   "metadata": {
    "tags": []
   },
   "outputs": [
    {
     "name": "stdout",
     "output_type": "stream",
     "text": [
      "[\"Where the Heart Is (Oprah's Book Club (Paperback))\", [[\"I'll Be Seeing You\", 0.8016211], ['The Weight of Water', 0.77085835], ['The Surgeon', 0.7699411], ['I Know This Much Is True', 0.7677075], ['The Lovely Bones: A Novel', 0.7234864]]]\n",
      "You passed the challenge! 🎉🎉🎉🎉🎉\n"
     ]
    }
   ],
   "source": [
    "books = get_recommends(\"Where the Heart Is (Oprah's Book Club (Paperback))\")\n",
    "print(books)\n",
    "\n",
    "def test_book_recommendation():\n",
    "  test_pass = True\n",
    "  recommends = get_recommends(\"Where the Heart Is (Oprah's Book Club (Paperback))\")\n",
    "  if recommends[0] != \"Where the Heart Is (Oprah's Book Club (Paperback))\":\n",
    "    test_pass = False\n",
    "  recommended_books = [\"I'll Be Seeing You\", 'The Weight of Water', 'The Surgeon', 'I Know This Much Is True']\n",
    "  recommended_books_dist = [0.8, 0.77, 0.77, 0.77]\n",
    "  for i in range(2): \n",
    "    if recommends[1][i][0] not in recommended_books:\n",
    "      test_pass = False\n",
    "    if abs(recommends[1][i][1] - recommended_books_dist[i]) >= 0.05:\n",
    "      test_pass = False\n",
    "  if test_pass:\n",
    "    print(\"You passed the challenge! 🎉🎉🎉🎉🎉\")\n",
    "  else:\n",
    "    print(\"You haven't passed yet. Keep trying!\")\n",
    "\n",
    "test_book_recommendation()"
   ]
  }
 ],
 "metadata": {
  "kernelspec": {
   "display_name": "Python 3 (ipykernel)",
   "language": "python",
   "name": "python3"
  },
  "language_info": {
   "codemirror_mode": {
    "name": "ipython",
    "version": 3
   },
   "file_extension": ".py",
   "mimetype": "text/x-python",
   "name": "python",
   "nbconvert_exporter": "python",
   "pygments_lexer": "ipython3",
   "version": "3.10.9"
  }
 },
 "nbformat": 4,
 "nbformat_minor": 5
}
