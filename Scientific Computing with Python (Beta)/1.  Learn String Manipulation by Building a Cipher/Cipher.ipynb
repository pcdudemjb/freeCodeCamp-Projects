{
 "cells": [
  {
   "cell_type": "code",
   "execution_count": 2,
   "id": "53a05a8c",
   "metadata": {},
   "outputs": [
    {
     "name": "stdout",
     "output_type": "stream",
     "text": [
      "\n",
      "Encrypted text: Learn String Manipulation by Building a Cipher\n",
      "Key: freecodecamp\n",
      "\n",
      "Decrypted text: gnwnl eqngnu xvwelsxxpgob mt kqejpfje a qtkqan\n",
      "\n"
     ]
    }
   ],
   "source": [
    "# Original text to be encrypted and decrypted\n",
    "text = 'Learn String Manipulation by Building a Cipher'\n",
    "\n",
    "# Custom key for Vigenere cipher\n",
    "custom_key = 'freecodecamp'\n",
    "\n",
    "# Vigenere cipher function with optional direction parameter (1 for encryption, -1 for decryption)\n",
    "def vigenere(message, key, direction=1):\n",
    "    key_index = 0\n",
    "    alphabet = 'abcdefghijklmnopqrstuvwxyz'\n",
    "    final_message = ''\n",
    "\n",
    "    for char in message.lower():\n",
    "\n",
    "        # Append any non-letter character to the message\n",
    "        if not char.isalpha():\n",
    "            final_message += char\n",
    "        else:        \n",
    "            # Find the right key character to encode/decode\n",
    "            key_char = key[key_index % len(key)]\n",
    "            key_index += 1\n",
    "\n",
    "            # Define the offset and the encrypted/decrypted letter\n",
    "            offset = alphabet.index(key_char)\n",
    "            index = alphabet.find(char)\n",
    "            new_index = (index + offset*direction) % len(alphabet)\n",
    "            final_message += alphabet[new_index]\n",
    "    \n",
    "    return final_message\n",
    "\n",
    "# Wrapper function for encryption using the Vigenere cipher\n",
    "def encrypt(message, key):\n",
    "    return vigenere(message, key)\n",
    "\n",
    "# Wrapper function for decryption using the Vigenere cipher with direction=-1\n",
    "def decrypt(message, key):\n",
    "    return vigenere(message, key, -1)\n",
    "\n",
    "# Display the original text, key, and the decrypted text\n",
    "print(f'\\nEncrypted text: {text}')\n",
    "print(f'Key: {custom_key}')\n",
    "decryption = decrypt(text, custom_key)\n",
    "print(f'\\nDecrypted text: {decryption}\\n')"
   ]
  },
  {
   "cell_type": "code",
   "execution_count": null,
   "id": "7228e116",
   "metadata": {},
   "outputs": [],
   "source": []
  }
 ],
 "metadata": {
  "kernelspec": {
   "display_name": "Python 3 (ipykernel)",
   "language": "python",
   "name": "python3"
  },
  "language_info": {
   "codemirror_mode": {
    "name": "ipython",
    "version": 3
   },
   "file_extension": ".py",
   "mimetype": "text/x-python",
   "name": "python",
   "nbconvert_exporter": "python",
   "pygments_lexer": "ipython3",
   "version": "3.10.9"
  }
 },
 "nbformat": 4,
 "nbformat_minor": 5
}
