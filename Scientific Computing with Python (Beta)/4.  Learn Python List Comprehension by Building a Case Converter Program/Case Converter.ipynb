{
 "cells": [
  {
   "cell_type": "code",
   "execution_count": 2,
   "id": "ceacf597",
   "metadata": {
    "scrolled": true
   },
   "outputs": [
    {
     "name": "stdout",
     "output_type": "stream",
     "text": [
      "Input PascalCase or camelCase string: IsThisThingOn\n",
      "is_this_thing_on\n"
     ]
    }
   ],
   "source": [
    "def convert_to_snake_case(pascal_or_camel_cased_string):\n",
    "    \"\"\"\n",
    "    Convert PascalCase or camelCase string to snake_case.\n",
    "\n",
    "    :param pascal_or_camel_cased_string: The input string in PascalCase or camelCase.\n",
    "    :return: The converted string in snake_case.\n",
    "    \"\"\"\n",
    "    \n",
    "    # Option 1 Traditional For Loop\n",
    "    snake_cased_char_list = []\n",
    "    \n",
    "    # Iterate through each character in the input string\n",
    "    for char in pascal_or_camel_cased_string:\n",
    "        if char.isupper():\n",
    "            # If the character is uppercase, add an underscore before the lowercase version\n",
    "            converted_character = '_' + char.lower()\n",
    "            snake_cased_char_list.append(converted_character)\n",
    "        else:\n",
    "            # If the character is not uppercase, simply append it to the list\n",
    "            snake_cased_char_list.append(char)\n",
    "    \n",
    "    # Join the list of characters into a string and remove leading/trailing underscores\n",
    "    snake_cased_string = ''.join(snake_cased_char_list)\n",
    "    clean_snake_cased_string = snake_cased_string.strip('_')\n",
    "\n",
    "    return clean_snake_cased_string\n",
    "\n",
    "def main():\n",
    "    # Get user input for a PascalCase or camelCase string\n",
    "    user_input = input(\"Input PascalCase or camelCase string: \")\n",
    "    # Print the converted string in snake_case\n",
    "    print(convert_to_snake_case(user_input))\n",
    "\n",
    "# Execute the main function if the script is run as the main program\n",
    "if __name__ == '__main__':\n",
    "    main()"
   ]
  },
  {
   "cell_type": "code",
   "execution_count": 3,
   "id": "0278d119",
   "metadata": {},
   "outputs": [
    {
     "name": "stdout",
     "output_type": "stream",
     "text": [
      "Input PascalCase or camelCase string: learnPythonListComprehensionByBuildingACaseCoverterProgram\n",
      "learn_python_list_comprehension_by_building_a_case_coverter_program\n"
     ]
    }
   ],
   "source": [
    "def convert_to_snake_case(pascal_or_camel_cased_string):\n",
    "    ## Option 2 List Comprehension\n",
    "    snake_cased_char_list = [\n",
    "        '_' + char.lower() if char.isupper()\n",
    "        else char\n",
    "        for char in pascal_or_camel_cased_string\n",
    "    ]\n",
    "\n",
    "    # Join the list of characters into a string and remove leading/trailing underscores\n",
    "    return ''.join(snake_cased_char_list).strip('_')\n",
    "\n",
    "def main():\n",
    "    # Get user input for a PascalCase or camelCase string\n",
    "    user_input = input(\"Input PascalCase or camelCase string: \")\n",
    "    # Print the converted string in snake_case\n",
    "    print(convert_to_snake_case(user_input))\n",
    "    \n",
    "# Execute the main function if the script is run as the main program \n",
    "if __name__ == '__main__':\n",
    "    main()"
   ]
  },
  {
   "cell_type": "code",
   "execution_count": null,
   "id": "86d8bbb9",
   "metadata": {},
   "outputs": [],
   "source": []
  }
 ],
 "metadata": {
  "kernelspec": {
   "display_name": "Python 3 (ipykernel)",
   "language": "python",
   "name": "python3"
  },
  "language_info": {
   "codemirror_mode": {
    "name": "ipython",
    "version": 3
   },
   "file_extension": ".py",
   "mimetype": "text/x-python",
   "name": "python",
   "nbconvert_exporter": "python",
   "pygments_lexer": "ipython3",
   "version": "3.10.9"
  }
 },
 "nbformat": 4,
 "nbformat_minor": 5
}
