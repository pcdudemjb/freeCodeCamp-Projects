{
 "cells": [
  {
   "cell_type": "code",
   "execution_count": 4,
   "id": "f7c7d2f3",
   "metadata": {},
   "outputs": [],
   "source": [
    "def add_time(start, duration, day_of_week=None):\n",
    "    # Define the index mapping for days of the week\n",
    "    days_of_the_week_index = {\"monday\": 0, \"tuesday\": 1, \"wednesday\": 2, \"thursday\" : 3, \"friday\": 4, \"saturday\": 5, \"sunday\": 6}\n",
    "\n",
    "    # Define an array for days of the week\n",
    "    days_of_the_week_array = [\"Monday\", \"Tuesday\", \"Wednesday\", \"Thursday\", \"Friday\", \"Saturday\", \"Sunday\"]\n",
    "\n",
    "    # Parse the input duration and start time\n",
    "    duration_tuple = duration.partition(\":\")\n",
    "    duration_hours = int(duration_tuple[0])\n",
    "    duration_minutes = int(duration_tuple[2])\n",
    "\n",
    "    start_tuple = start.partition(\":\")\n",
    "    start_minutes_tuple = start_tuple[2].partition(\" \")\n",
    "    start_hours = int(start_tuple[0])\n",
    "    start_minutes = int(start_minutes_tuple[0])\n",
    "    am_or_pm = start_minutes_tuple[2]\n",
    "    \n",
    "    # Dictionary to flip AM and PM\n",
    "    am_and_pm_flip = {\"AM\": \"PM\", \"PM\": \"AM\"}\n",
    "\n",
    "    # Calculate the number of days in the duration\n",
    "    amount_of_days = int(duration_hours / 24)\n",
    "\n",
    "    # Calculate the end time\n",
    "    end_minutes = start_minutes + duration_minutes\n",
    "    if (end_minutes >= 60):\n",
    "        start_hours += 1\n",
    "        end_minutes = end_minutes % 60\n",
    "        \n",
    "    amount_of_am_pm_flips = int((start_hours + duration_hours) / 12)\n",
    "    end_hours = (start_hours + duration_hours) % 12\n",
    "\n",
    "    # Format end time with leading zeros if needed\n",
    "    end_minutes = end_minutes if end_minutes > 9 else \"0\" + str(end_minutes)\n",
    "    end_hours = end_hours = 12 if end_hours == 0 else end_hours\n",
    "  \n",
    "    # Check for AM/PM flip and adjust days accordingly\n",
    "    if(am_or_pm == \"PM\" and start_hours + (duration_hours % 24) >= 12):\n",
    "        amount_of_days += 1\n",
    "\n",
    "    am_or_pm = am_and_pm_flip[am_or_pm] if amount_of_am_pm_flips % 2 == 1 else am_or_pm\n",
    "\n",
    "    # Build the new time string\n",
    "    new_time = str(end_hours) + \":\" + str(end_minutes) + \" \" + am_or_pm\n",
    "    \n",
    "    # If day_of_week is provided, calculate the new day\n",
    "    if(day_of_week):\n",
    "        day_of_week = day_of_week.lower()\n",
    "        index = int((days_of_the_week_index[day_of_week]) + amount_of_days) % 7\n",
    "        new_day = days_of_the_week_array[index]\n",
    "        new_time += \", \" + new_day\n",
    "\n",
    "    # Return the formatted time string\n",
    "    if(amount_of_days == 1):\n",
    "        return new_time + \" \" + \"(next day)\"\n",
    "    elif(amount_of_days > 1):\n",
    "        return new_time + \" (\" + str(amount_of_days) + \" days later)\"\n",
    "\n",
    "    return new_time"
   ]
  },
  {
   "cell_type": "code",
   "execution_count": 5,
   "id": "388218fc",
   "metadata": {},
   "outputs": [
    {
     "name": "stdout",
     "output_type": "stream",
     "text": [
      "1:08 AM (next day)\n"
     ]
    }
   ],
   "source": [
    "# Test case\n",
    "print(add_time(\"11:06 PM\", \"2:02\"))"
   ]
  },
  {
   "cell_type": "code",
   "execution_count": 6,
   "id": "7d838d44",
   "metadata": {},
   "outputs": [
    {
     "name": "stdout",
     "output_type": "stream",
     "text": [
      "6:10 PM\n",
      "2:02 PM, Monday\n",
      "12:03 PM\n",
      "1:40 AM (next day)\n",
      "12:03 AM, Thursday (2 days later)\n",
      "7:42 AM (9 days later)\n"
     ]
    }
   ],
   "source": [
    "# Example cases\n",
    "print(add_time(\"3:00 PM\", \"3:10\"))\n",
    "# Should return: 6:10 PM\n",
    "\n",
    "print(add_time(\"11:30 AM\", \"2:32\", \"Monday\"))\n",
    "# Should return: 2:02 PM, Monday\n",
    "\n",
    "print(add_time(\"11:43 AM\", \"00:20\"))\n",
    "# Should return: 12:03 PM\n",
    "\n",
    "print(add_time(\"10:10 PM\", \"3:30\"))\n",
    "# Should return: 1:40 AM (next day)\n",
    "\n",
    "print(add_time(\"11:43 PM\", \"24:20\", \"tueSday\"))\n",
    "# Should return: 12:03 AM, Thursday (2 days later)\n",
    "\n",
    "print(add_time(\"6:30 PM\", \"205:12\"))\n",
    "# Should return: 7:42 AM (9 days later)"
   ]
  },
  {
   "cell_type": "code",
   "execution_count": null,
   "id": "1e223145",
   "metadata": {},
   "outputs": [],
   "source": []
  }
 ],
 "metadata": {
  "kernelspec": {
   "display_name": "Python 3 (ipykernel)",
   "language": "python",
   "name": "python3"
  },
  "language_info": {
   "codemirror_mode": {
    "name": "ipython",
    "version": 3
   },
   "file_extension": ".py",
   "mimetype": "text/x-python",
   "name": "python",
   "nbconvert_exporter": "python",
   "pygments_lexer": "ipython3",
   "version": "3.10.9"
  }
 },
 "nbformat": 4,
 "nbformat_minor": 5
}
