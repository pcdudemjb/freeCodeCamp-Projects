{
 "cells": [
  {
   "cell_type": "code",
   "execution_count": 10,
   "id": "3fde74f4",
   "metadata": {},
   "outputs": [],
   "source": [
    "import copy\n",
    "import random\n",
    "\n",
    "class Hat:\n",
    "    def __init__(self, **balls):  # **balls parameter allows passing a variable number of colored balls and their quantities\n",
    "        # Initialize the Hat object with different colored balls and their quantities\n",
    "        self.contents = []\n",
    "        for color, quantity in balls.items():\n",
    "            self.contents.extend([color] * quantity)\n",
    "\n",
    "    \n",
    "    def draw(self, num_balls):\n",
    "        # Draw a specified number of balls randomly from the hat\n",
    "        drawn_balls = random.sample(self.contents, min(num_balls, len(self.contents)))\n",
    "        \n",
    "        # Remove the drawn balls from the hat's contents\n",
    "        for ball in drawn_balls:\n",
    "            self.contents.remove(ball)\n",
    "        \n",
    "        # Return the drawn balls\n",
    "        return drawn_balls\n",
    "\n",
    "\n",
    "def experiment(hat, expected_balls, num_balls_drawn, num_experiments):\n",
    "    # Perform a probability experiment based on specified parameters\n",
    "    successful_experiments = 0\n",
    "\n",
    "    for _ in range(num_experiments):\n",
    "        # Create a copy of the hat to avoid modifying the original hat\n",
    "        hat_copy = Hat(**{color: hat.contents.count(color) for color in set(hat.contents)})\n",
    "        \n",
    "        # Draw balls from the copied hat\n",
    "        drawn_balls = hat_copy.draw(num_balls_drawn)\n",
    "        \n",
    "        # Check if the drawn balls match the expected distribution\n",
    "        match = all(drawn_balls.count(color) >= expected_balls.get(color, 0) for color in expected_balls)\n",
    "\n",
    "        # If the match is successful, increment the count of successful experiments\n",
    "        if match:\n",
    "            successful_experiments += 1\n",
    "\n",
    "    # Calculate the probability based on successful experiments\n",
    "    probability = successful_experiments / num_experiments\n",
    "    return probability"
   ]
  },
  {
   "cell_type": "code",
   "execution_count": 11,
   "id": "dedf895f",
   "metadata": {},
   "outputs": [
    {
     "name": "stdout",
     "output_type": "stream",
     "text": [
      "Probability: 0.17066666666666666\n"
     ]
    }
   ],
   "source": [
    "# Set a random seed for reproducibility\n",
    "random.seed(95)\n",
    "\n",
    "# Create a hat with specified quantities of colored balls\n",
    "hat = Hat(blue=4, red=2, green=6)\n",
    "\n",
    "# Perform the experiment and calculate the probability\n",
    "probability = experiment(\n",
    "    hat=hat,\n",
    "    expected_balls={\"blue\": 2,\n",
    "                    \"red\": 1},\n",
    "    num_balls_drawn=4,\n",
    "    num_experiments=3000\n",
    ")\n",
    "\n",
    "# Print the calculated probability\n",
    "print(\"Probability:\", probability)"
   ]
  },
  {
   "cell_type": "code",
   "execution_count": null,
   "id": "bad3ac4d",
   "metadata": {},
   "outputs": [],
   "source": []
  }
 ],
 "metadata": {
  "kernelspec": {
   "display_name": "Python 3 (ipykernel)",
   "language": "python",
   "name": "python3"
  },
  "language_info": {
   "codemirror_mode": {
    "name": "ipython",
    "version": 3
   },
   "file_extension": ".py",
   "mimetype": "text/x-python",
   "name": "python",
   "nbconvert_exporter": "python",
   "pygments_lexer": "ipython3",
   "version": "3.10.9"
  }
 },
 "nbformat": 4,
 "nbformat_minor": 5
}
