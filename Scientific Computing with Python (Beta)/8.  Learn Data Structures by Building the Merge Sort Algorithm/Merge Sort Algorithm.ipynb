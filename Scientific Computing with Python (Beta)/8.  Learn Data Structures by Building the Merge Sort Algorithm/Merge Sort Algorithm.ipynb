{
 "cells": [
  {
   "cell_type": "code",
   "execution_count": 1,
   "id": "011c5027",
   "metadata": {},
   "outputs": [
    {
     "name": "stdout",
     "output_type": "stream",
     "text": [
      "Unsorted array: \n",
      "[4, 10, 6, 14, 2, 1, 8, 5]\n",
      "Sorted array: [1, 2, 4, 5, 6, 8, 10, 14]\n"
     ]
    }
   ],
   "source": [
    "def merge_sort(array):\n",
    "    \"\"\"\n",
    "    Sorts an array using the merge sort algorithm.\n",
    "\n",
    "    Args:\n",
    "        array (list): The input array to be sorted.\n",
    "\n",
    "    Returns:\n",
    "        None: The sorting is done in-place on the input array.\n",
    "    \"\"\"\n",
    "    \n",
    "    if len(array) <= 1:\n",
    "        return\n",
    "    \n",
    "    # Divide the array into two halves\n",
    "    middle_point = len(array) // 2\n",
    "    left_part = array[:middle_point]\n",
    "    right_part = array[middle_point:]\n",
    "    \n",
    "    # Recursively apply merge_sort on each half\n",
    "    merge_sort(left_part)\n",
    "    merge_sort(right_part)\n",
    "\n",
    "    # Merge the sorted halves back in to the array\n",
    "    left_array_index = 0\n",
    "    right_array_index = 0\n",
    "    sorted_index = 0\n",
    "\n",
    "    while left_array_index < len(left_part) and right_array_index < len(right_part):\n",
    "        # Compare both halves and merge\n",
    "        if left_part[left_array_index] < right_part[right_array_index]:\n",
    "            array[sorted_index] = left_part[left_array_index]\n",
    "            left_array_index += 1\n",
    "        else:\n",
    "            array[sorted_index] = right_part[right_array_index]\n",
    "            right_array_index += 1\n",
    "        sorted_index += 1\n",
    "    \n",
    "    # Handle remaining elements in left_part, if any\n",
    "    while left_array_index < len(left_part):\n",
    "        array[sorted_index] = left_part[left_array_index]\n",
    "        left_array_index += 1\n",
    "        sorted_index += 1\n",
    "    \n",
    "    # Handle remaining elements in right_part, if any\n",
    "    while right_array_index < len(right_part):\n",
    "        array[sorted_index] = right_part[right_array_index]\n",
    "        right_array_index += 1\n",
    "        sorted_index += 1\n",
    "\n",
    "\n",
    "if __name__ == '__main__':\n",
    "    # Example\n",
    "    numbers = [4, 10, 6, 14, 2, 1, 8, 5]\n",
    "    print('Unsorted array: ')\n",
    "    print(numbers)\n",
    "    \n",
    "    # Sort the array\n",
    "    merge_sort(numbers)\n",
    "    print('Sorted array: '+ str(numbers))"
   ]
  }
 ],
 "metadata": {
  "kernelspec": {
   "display_name": "Python 3 (ipykernel)",
   "language": "python",
   "name": "python3"
  },
  "language_info": {
   "codemirror_mode": {
    "name": "ipython",
    "version": 3
   },
   "file_extension": ".py",
   "mimetype": "text/x-python",
   "name": "python",
   "nbconvert_exporter": "python",
   "pygments_lexer": "ipython3",
   "version": "3.10.9"
  }
 },
 "nbformat": 4,
 "nbformat_minor": 5
}
