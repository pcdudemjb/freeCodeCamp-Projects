{
 "cells": [
  {
   "cell_type": "code",
   "execution_count": 2,
   "id": "9a8cd749",
   "metadata": {},
   "outputs": [
    {
     "name": "stdout",
     "output_type": "stream",
     "text": [
      "Enter a credit card number: 4012-8888-8888-1881\n",
      "VALID!\n"
     ]
    }
   ],
   "source": [
    "def verify_card_number(card_number):\n",
    "    # Initialize sum for odd digits\n",
    "    sum_of_odd_digits = 0\n",
    "    # Reverse the card number for easier iteration\n",
    "    card_number_reversed = card_number[::-1]\n",
    "    # Extract odd digits using slicing\n",
    "    odd_digits = card_number_reversed[::2]\n",
    "\n",
    "    # Sum up the odd digits\n",
    "    for digit in odd_digits:\n",
    "        sum_of_odd_digits += int(digit)\n",
    "\n",
    "    # Initialize sum for even digits\n",
    "    sum_of_even_digits = 0\n",
    "    # Extract even digits using slicing\n",
    "    even_digits = card_number_reversed[1::2]\n",
    "    \n",
    "    # Double each even digit and adjust for two-digit results\n",
    "    for digit in even_digits:\n",
    "        number = int(digit) * 2\n",
    "        if number >= 10:  # If the doubled number is two digits, add the digits separately\n",
    "            number = (number // 10) + (number % 10)\n",
    "        sum_of_even_digits += number\n",
    "    \n",
    "    # Calculate the total sum of odd and even digits\n",
    "    total = sum_of_odd_digits + sum_of_even_digits\n",
    "    # Check if the total is a multiple of 10\n",
    "    return total % 10 == 0\n",
    "\n",
    "\n",
    "def main():\n",
    "    # Prompt user to enter a credit card number\n",
    "    card_number = input('Enter a credit card number: ')\n",
    "    # '4012-8888-8888-1881' # Visa Test Credit Card Number\n",
    "    \n",
    "    # Remove dashes and spaces from the entered card number\n",
    "    card_translation = str.maketrans({'-': '', ' ': ''})\n",
    "    translated_card_number = card_number.translate(card_translation)\n",
    "\n",
    "    # Check if the card number is valid using the verification function\n",
    "    if verify_card_number(translated_card_number):\n",
    "        print('VALID!')\n",
    "    else:\n",
    "        print('INVALID!')\n",
    "\n",
    "# Call the main function to run the program\n",
    "main()"
   ]
  },
  {
   "cell_type": "code",
   "execution_count": null,
   "id": "bcabec3d",
   "metadata": {},
   "outputs": [],
   "source": []
  }
 ],
 "metadata": {
  "kernelspec": {
   "display_name": "Python 3 (ipykernel)",
   "language": "python",
   "name": "python3"
  },
  "language_info": {
   "codemirror_mode": {
    "name": "ipython",
    "version": 3
   },
   "file_extension": ".py",
   "mimetype": "text/x-python",
   "name": "python",
   "nbconvert_exporter": "python",
   "pygments_lexer": "ipython3",
   "version": "3.10.9"
  }
 },
 "nbformat": 4,
 "nbformat_minor": 5
}
